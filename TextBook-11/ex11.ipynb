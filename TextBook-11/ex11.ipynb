{
 "cells": [
  {
   "cell_type": "code",
   "execution_count": 1,
   "metadata": {
    "colab": {
     "base_uri": "https://localhost:8080/",
     "height": 417
    },
    "id": "uRL-0KCqS__N",
    "outputId": "688e3b5c-fb29-4d37-b0d2-d36ce16fc65f"
   },
   "outputs": [],
   "source": [
    "###############################################################\n",
    "# 연관 규칙(Association Rule)\n",
    "###############################################################\n"
   ]
  },
  {
   "cell_type": "code",
   "execution_count": 2,
   "metadata": {
    "colab": {
     "base_uri": "https://localhost:8080/"
    },
    "id": "vpLKRfywUd1n",
    "outputId": "9b6799fc-df6f-49b5-893d-0c88b0b121ce"
   },
   "outputs": [
    {
     "ename": "NameError",
     "evalue": "name 'pd' is not defined",
     "output_type": "error",
     "traceback": [
      "\u001b[1;31m---------------------------------------------------------------------------\u001b[0m",
      "\u001b[1;31mNameError\u001b[0m                                 Traceback (most recent call last)",
      "Cell \u001b[1;32mIn[2], line 6\u001b[0m\n\u001b[0;32m      1\u001b[0m \u001b[38;5;66;03m# (1) GitHub 파일의 URL을 raw 파일로 변환\u001b[39;00m\n\u001b[0;32m      2\u001b[0m \u001b[38;5;66;03m# 원래 URL : https://github.com/YangGuiBee/ML/blob/main/TextBook-11/OnlineRetail.xlsx\u001b[39;00m\n\u001b[0;32m      3\u001b[0m \u001b[38;5;66;03m# raw URL: https://github.com/YangGuiBee/ML/raw/main/TextBook-11/OnlineRetail.xlsx\u001b[39;00m\n\u001b[0;32m      4\u001b[0m url \u001b[38;5;241m=\u001b[39m \u001b[38;5;124m\"\u001b[39m\u001b[38;5;124mhttps://github.com/YangGuiBee/ML/raw/main/TextBook-11/OnlineRetail.xlsx\u001b[39m\u001b[38;5;124m\"\u001b[39m\n\u001b[1;32m----> 6\u001b[0m data \u001b[38;5;241m=\u001b[39m pd\u001b[38;5;241m.\u001b[39mread_excel(url)\n",
      "\u001b[1;31mNameError\u001b[0m: name 'pd' is not defined"
     ]
    }
   ],
   "source": [
    "# (1) GitHub 파일의 URL을 raw 파일로 변환\n",
    "# 원래 URL : https://github.com/YangGuiBee/ML/blob/main/TextBook-11/OnlineRetail.xlsx\n",
    "# raw URL: https://github.com/YangGuiBee/ML/raw/main/TextBook-11/OnlineRetail.xlsx\n",
    "url = \"https://github.com/YangGuiBee/ML/raw/main/TextBook-11/OnlineRetail.xlsx\"\n",
    "\n",
    "data = pd.read_excel(url)\n"
   ]
  },
  {
   "cell_type": "code",
   "execution_count": null,
   "metadata": {
    "id": "ysvAggnhUmV3"
   },
   "outputs": [],
   "source": [
    "# (2) 로컬에 있는 파일 업로드\n",
    "from google.colab import files\n",
    "uploaded = files.upload()"
   ]
  },
  {
   "cell_type": "code",
   "execution_count": 51,
   "metadata": {
    "colab": {
     "base_uri": "https://localhost:8080/",
     "height": 798
    },
    "id": "vbWd0W-dTBRh",
    "outputId": "1de643ad-782c-4c14-8807-ccdabafe2432"
   },
   "outputs": [
    {
     "data": {
      "image/png": "[encoded data removed]",
      "text/plain": [
       "<Figure size 640x480 with 1 Axes>"
      ]
     },
     "metadata": {},
     "output_type": "display_data"
    },
    {
     "name": "stdout",
     "output_type": "stream",
     "text": [
      "Association Rules:\n",
      "  antecedents consequents  support  confidence      lift\n",
      "0     (bread)      (milk)      0.4    0.500000  0.833333\n",
      "1      (milk)     (bread)      0.4    0.666667  0.833333\n",
      "2    (butter)      (milk)      0.4    0.500000  0.833333\n",
      "3      (milk)    (butter)      0.4    0.666667  0.833333\n",
      "4    (butter)     (bread)      0.6    0.750000  0.937500\n",
      "5     (bread)    (butter)      0.6    0.750000  0.937500\n"
     ]
    },
    {
     "name": "stderr",
     "output_type": "stream",
     "text": [
      "C:\\python\\Lib\\site-packages\\mlxtend\\frequent_patterns\\fpcommon.py:161: DeprecationWarning: DataFrames with non-bool types result in worse computationalperformance and their support might be discontinued in the future.Please use a DataFrame with bool type\n",
      "  warnings.warn(\n"
     ]
    }
   ],
   "source": [
    "# [1] Apriori\n",
    "import pandas as pd\n",
    "from mlxtend.frequent_patterns import apriori\n",
    "import matplotlib.pyplot as plt\n",
    "from itertools import combinations\n",
    "\n",
    "# 데이터셋 생성\n",
    "data = {\n",
    "    'TID': [1, 2, 3, 4, 5],\n",
    "    'milk': [1, 1, 0, 1, 0],\n",
    "    'bread': [1, 1, 1, 0, 1],\n",
    "    'butter': [0, 1, 1, 1, 1],\n",
    "}\n",
    "df = pd.DataFrame(data).set_index('TID')\n",
    "\n",
    "# 데이터 시각화\n",
    "item_counts = df.sum()\n",
    "item_counts.plot(kind='bar', color='blue')\n",
    "plt.title('Item Frequency')\n",
    "plt.xlabel('Items')\n",
    "plt.ylabel('Frequency')\n",
    "plt.show()\n",
    "\n",
    "# apriori 알고리즘 적용\n",
    "frequent_itemsets = apriori(df, min_support=0.4, use_colnames=True)\n",
    "\n",
    "# 수동으로 연관 규칙 계산\n",
    "rules = []\n",
    "for itemset in frequent_itemsets['itemsets']:\n",
    "    if len(itemset) > 1:\n",
    "        for antecedent in combinations(itemset, len(itemset) - 1):\n",
    "            antecedent = frozenset(antecedent)\n",
    "            consequent = itemset - antecedent\n",
    "            \n",
    "            # 지지도 계산\n",
    "            support = frequent_itemsets[frequent_itemsets['itemsets'] == itemset]['support'].values[0]\n",
    "            \n",
    "            # 신뢰도 계산\n",
    "            antecedent_support = frequent_itemsets[frequent_itemsets['itemsets'] == antecedent]['support'].values[0]\n",
    "            confidence = support / antecedent_support\n",
    "            \n",
    "            # 향상도 계산\n",
    "            consequent_support = frequent_itemsets[frequent_itemsets['itemsets'] == consequent]['support'].values[0]\n",
    "            lift = confidence / consequent_support\n",
    "            \n",
    "            # 규칙 저장\n",
    "            rules.append({\n",
    "                'antecedents': antecedent,\n",
    "                'consequents': consequent,\n",
    "                'support': support,\n",
    "                'confidence': confidence,\n",
    "                'lift': lift\n",
    "            })\n",
    "\n",
    "# 결과를 DataFrame으로 변환하여 출력\n",
    "rules_df = pd.DataFrame(rules)\n",
    "print(\"Association Rules:\")\n",
    "print(rules_df[['antecedents', 'consequents', 'support', 'confidence', 'lift']])\n"
   ]
  },
  {
   "cell_type": "code",
   "execution_count": 53,
   "metadata": {
    "id": "xcW1i2ZQTIX_"
   },
   "outputs": [
    {
     "data": {
      "image/png": "[encoded data removed]",
      "text/plain": [
       "<Figure size 640x480 with 1 Axes>"
      ]
     },
     "metadata": {},
     "output_type": "display_data"
    },
    {
     "name": "stdout",
     "output_type": "stream",
     "text": [
      "Association Rules (FP-Growth):\n",
      "  antecedents consequents  support  confidence      lift\n",
      "0    (butter)     (bread)      0.6    0.750000  0.937500\n",
      "1     (bread)    (butter)      0.6    0.750000  0.937500\n",
      "2     (bread)      (milk)      0.4    0.500000  0.833333\n",
      "3      (milk)     (bread)      0.4    0.666667  0.833333\n",
      "4    (butter)      (milk)      0.4    0.500000  0.833333\n",
      "5      (milk)    (butter)      0.4    0.666667  0.833333\n"
     ]
    },
    {
     "name": "stderr",
     "output_type": "stream",
     "text": [
      "C:\\python\\Lib\\site-packages\\mlxtend\\frequent_patterns\\fpcommon.py:161: DeprecationWarning: DataFrames with non-bool types result in worse computationalperformance and their support might be discontinued in the future.Please use a DataFrame with bool type\n",
      "  warnings.warn(\n"
     ]
    }
   ],
   "source": [
    "# [2] FP-Growth(Frequent Pattern Growth)\n",
    "import pandas as pd\n",
    "from mlxtend.frequent_patterns import fpgrowth\n",
    "import matplotlib.pyplot as plt\n",
    "from itertools import combinations\n",
    "\n",
    "# 데이터셋 생성\n",
    "data = {\n",
    "    'TID': [1, 2, 3, 4, 5],\n",
    "    'milk': [1, 1, 0, 1, 0],\n",
    "    'bread': [1, 1, 1, 0, 1],\n",
    "    'butter': [0, 1, 1, 1, 1],\n",
    "}\n",
    "df = pd.DataFrame(data).set_index('TID')\n",
    "\n",
    "# 데이터 시각화\n",
    "item_counts = df.sum()\n",
    "item_counts.plot(kind='bar', color='green')\n",
    "plt.title('Item Frequency (FP-Growth)')\n",
    "plt.xlabel('Items')\n",
    "plt.ylabel('Frequency')\n",
    "plt.show()\n",
    "\n",
    "# FP-Growth 알고리즘 적용\n",
    "frequent_itemsets = fpgrowth(df, min_support=0.4, use_colnames=True)\n",
    "\n",
    "# 수동으로 연관 규칙 계산\n",
    "rules = []\n",
    "for itemset in frequent_itemsets['itemsets']:\n",
    "    if len(itemset) > 1:\n",
    "        for antecedent in combinations(itemset, len(itemset) - 1):\n",
    "            antecedent = frozenset(antecedent)\n",
    "            consequent = itemset - antecedent\n",
    "            \n",
    "            # 지지도 계산\n",
    "            support = frequent_itemsets[frequent_itemsets['itemsets'] == itemset]['support'].values[0]\n",
    "            \n",
    "            # 신뢰도 계산\n",
    "            antecedent_support = frequent_itemsets[frequent_itemsets['itemsets'] == antecedent]['support'].values[0]\n",
    "            confidence = support / antecedent_support\n",
    "            \n",
    "            # 향상도 계산\n",
    "            consequent_support = frequent_itemsets[frequent_itemsets['itemsets'] == consequent]['support'].values[0]\n",
    "            lift = confidence / consequent_support\n",
    "            \n",
    "            # 규칙 저장\n",
    "            rules.append({\n",
    "                'antecedents': antecedent,\n",
    "                'consequents': consequent,\n",
    "                'support': support,\n",
    "                'confidence': confidence,\n",
    "                'lift': lift\n",
    "            })\n",
    "\n",
    "# 결과를 DataFrame으로 변환하여 출력\n",
    "rules_df = pd.DataFrame(rules)\n",
    "print(\"Association Rules (FP-Growth):\")\n",
    "print(rules_df[['antecedents', 'consequents', 'support', 'confidence', 'lift']])\n"
   ]
  },
  {
   "cell_type": "code",
   "execution_count": 55,
   "metadata": {
    "id": "y12l6uetTMQe"
   },
   "outputs": [
    {
     "data": {
      "image/png": "[encoded data removed]",
      "text/plain": [
       "<Figure size 640x480 with 1 Axes>"
      ]
     },
     "metadata": {},
     "output_type": "display_data"
    },
    {
     "name": "stdout",
     "output_type": "stream",
     "text": [
      "Association Rules (Eclat):\n",
      "  antecedents consequents  support  confidence      lift\n",
      "0     (bread)      (milk)      0.4    0.500000  0.833333\n",
      "1      (milk)     (bread)      0.4    0.666667  0.833333\n",
      "2    (butter)      (milk)      0.4    0.500000  0.833333\n",
      "3      (milk)    (butter)      0.4    0.666667  0.833333\n",
      "4    (butter)     (bread)      0.6    0.750000  0.937500\n",
      "5     (bread)    (butter)      0.6    0.750000  0.937500\n"
     ]
    }
   ],
   "source": [
    "# [3] Eclat(Equivalence Class Transformation)\n",
    "import pandas as pd\n",
    "import matplotlib.pyplot as plt\n",
    "from itertools import combinations\n",
    "\n",
    "# 데이터셋 생성\n",
    "data = {\n",
    "    'TID': [1, 2, 3, 4, 5],\n",
    "    'milk': [1, 1, 0, 1, 0],\n",
    "    'bread': [1, 1, 1, 0, 1],\n",
    "    'butter': [0, 1, 1, 1, 1],\n",
    "}\n",
    "df = pd.DataFrame(data).set_index('TID')\n",
    "\n",
    "# 데이터 시각화\n",
    "item_counts = df.sum()\n",
    "item_counts.plot(kind='bar', color='purple')\n",
    "plt.title('Item Frequency (Eclat)')\n",
    "plt.xlabel('Items')\n",
    "plt.ylabel('Frequency')\n",
    "plt.show()\n",
    "\n",
    "# Eclat 알고리즘 구현\n",
    "def eclat(data, min_support=0.4):\n",
    "    # 항목별 지지도 계산\n",
    "    itemsets = {}\n",
    "    for col in data.columns:\n",
    "        support = data[col].sum() / len(data)\n",
    "        if support >= min_support:\n",
    "            itemsets[frozenset([col])] = support\n",
    "    \n",
    "    # 두 개 이상의 항목 집합에 대해 지지도 계산\n",
    "    for length in range(2, len(data.columns) + 1):\n",
    "        for comb in combinations(data.columns, length):\n",
    "            comb_set = frozenset(comb)\n",
    "            support = (data[list(comb)].sum(axis=1) == length).mean()\n",
    "            if support >= min_support:\n",
    "                itemsets[comb_set] = support\n",
    "\n",
    "    return itemsets\n",
    "\n",
    "# Eclat 알고리즘 적용하여 빈발 항목 집합 생성\n",
    "frequent_itemsets = eclat(df, min_support=0.4)\n",
    "\n",
    "# 빈발 항목 집합에서 연관 규칙 계산\n",
    "rules = []\n",
    "for itemset, support in frequent_itemsets.items():\n",
    "    if len(itemset) > 1:\n",
    "        for antecedent in combinations(itemset, len(itemset) - 1):\n",
    "            antecedent = frozenset(antecedent)\n",
    "            consequent = itemset - antecedent\n",
    "            \n",
    "            # 신뢰도 계산\n",
    "            antecedent_support = frequent_itemsets[antecedent]\n",
    "            confidence = support / antecedent_support\n",
    "            \n",
    "            # 향상도 계산\n",
    "            consequent_support = frequent_itemsets[consequent]\n",
    "            lift = confidence / consequent_support\n",
    "            \n",
    "            # 규칙 저장\n",
    "            rules.append({\n",
    "                'antecedents': antecedent,\n",
    "                'consequents': consequent,\n",
    "                'support': support,\n",
    "                'confidence': confidence,\n",
    "                'lift': lift\n",
    "            })\n",
    "\n",
    "# 결과를 DataFrame으로 변환하여 출력\n",
    "rules_df = pd.DataFrame(rules)\n",
    "print(\"Association Rules (Eclat):\")\n",
    "print(rules_df[['antecedents', 'consequents', 'support', 'confidence', 'lift']])\n"
   ]
  },
  {
   "cell_type": "code",
   "execution_count": 59,
   "metadata": {
    "id": "gybzARfWTMTI"
   },
   "outputs": [
    {
     "data": {
      "image/png": "[encoded data removed]",
      "text/plain": [
       "<Figure size 640x480 with 1 Axes>"
      ]
     },
     "metadata": {},
     "output_type": "display_data"
    },
    {
     "name": "stdout",
     "output_type": "stream",
     "text": [
      "Association Rules (Upper Level):\n",
      "  antecedents consequents  support  confidence  lift\n",
      "0     (Dairy)    (Bakery)      0.6         1.0   1.0\n",
      "1    (Bakery)     (Dairy)      0.6         0.6   1.0\n",
      "\n",
      "Association Rules (Lower Level):\n",
      "       antecedents      consequents  support  confidence      lift\n",
      "0   (Bakery_Bread)     (Dairy_Milk)      0.4    0.500000  0.833333\n",
      "1     (Dairy_Milk)   (Bakery_Bread)      0.4    0.666667  0.833333\n",
      "2     (Dairy_Milk)  (Bakery_Butter)      0.4    0.666667  0.833333\n",
      "3  (Bakery_Butter)     (Dairy_Milk)      0.4    0.500000  0.833333\n",
      "4   (Bakery_Bread)  (Bakery_Butter)      0.6    0.750000  0.937500\n",
      "5  (Bakery_Butter)   (Bakery_Bread)      0.6    0.750000  0.937500\n"
     ]
    },
    {
     "name": "stderr",
     "output_type": "stream",
     "text": [
      "C:\\python\\Lib\\site-packages\\mlxtend\\frequent_patterns\\fpcommon.py:161: DeprecationWarning: DataFrames with non-bool types result in worse computationalperformance and their support might be discontinued in the future.Please use a DataFrame with bool type\n",
      "  warnings.warn(\n",
      "C:\\python\\Lib\\site-packages\\mlxtend\\frequent_patterns\\fpcommon.py:161: DeprecationWarning: DataFrames with non-bool types result in worse computationalperformance and their support might be discontinued in the future.Please use a DataFrame with bool type\n",
      "  warnings.warn(\n"
     ]
    }
   ],
   "source": [
    "# [4] Multi-level Association Rules\n",
    "import pandas as pd\n",
    "from mlxtend.frequent_patterns import apriori\n",
    "import matplotlib.pyplot as plt\n",
    "from itertools import combinations\n",
    "\n",
    "# 데이터셋 생성 (Multi-level 구조)\n",
    "data = {\n",
    "    'TID': [1, 2, 3, 4, 5],\n",
    "    'Dairy_Milk': [1, 1, 0, 1, 0],\n",
    "    'Bakery_Bread': [1, 1, 1, 0, 1],\n",
    "    'Bakery_Butter': [0, 1, 1, 1, 1]\n",
    "}\n",
    "df = pd.DataFrame(data).set_index('TID')\n",
    "\n",
    "# 상위 계층 데이터 생성\n",
    "df['Dairy'] = df['Dairy_Milk']\n",
    "df['Bakery'] = df[['Bakery_Bread', 'Bakery_Butter']].max(axis=1)\n",
    "\n",
    "# 원본 데이터 시각화\n",
    "item_counts = df[['Dairy_Milk', 'Bakery_Bread', 'Bakery_Butter']].sum()\n",
    "item_counts.plot(kind='bar', color='purple')\n",
    "plt.title('Item Frequency (Multi-level Association Rules)')\n",
    "plt.xlabel('Items')\n",
    "plt.ylabel('Frequency')\n",
    "plt.show()\n",
    "\n",
    "# 상위 계층에서 apriori 알고리즘 적용\n",
    "frequent_itemsets_upper = apriori(df[['Dairy', 'Bakery']], min_support=0.4, use_colnames=True)\n",
    "frequent_itemsets_upper['length'] = frequent_itemsets_upper['itemsets'].apply(lambda x: len(x))\n",
    "\n",
    "# 하위 계층에서 apriori 알고리즘 적용\n",
    "frequent_itemsets_lower = apriori(df[['Dairy_Milk', 'Bakery_Bread', 'Bakery_Butter']], min_support=0.4, use_colnames=True)\n",
    "frequent_itemsets_lower['length'] = frequent_itemsets_lower['itemsets'].apply(lambda x: len(x))\n",
    "\n",
    "# 연관 규칙 수동 계산\n",
    "def generate_rules(frequent_itemsets):\n",
    "    rules = []\n",
    "    for itemset in frequent_itemsets['itemsets']:\n",
    "        if len(itemset) > 1:\n",
    "            for antecedent in combinations(itemset, len(itemset) - 1):\n",
    "                antecedent = frozenset(antecedent)\n",
    "                consequent = itemset - antecedent\n",
    "                \n",
    "                # 지지도 계산\n",
    "                support = frequent_itemsets[frequent_itemsets['itemsets'] == itemset]['support'].values[0]\n",
    "                \n",
    "                # 신뢰도 계산\n",
    "                antecedent_support = frequent_itemsets[frequent_itemsets['itemsets'] == antecedent]['support'].values[0]\n",
    "                confidence = support / antecedent_support\n",
    "                \n",
    "                # 향상도 계산\n",
    "                consequent_support = frequent_itemsets[frequent_itemsets['itemsets'] == consequent]['support'].values[0]\n",
    "                lift = confidence / consequent_support\n",
    "                \n",
    "                # 규칙 저장\n",
    "                rules.append({\n",
    "                    'antecedents': antecedent,\n",
    "                    'consequents': consequent,\n",
    "                    'support': support,\n",
    "                    'confidence': confidence,\n",
    "                    'lift': lift\n",
    "                })\n",
    "    return rules\n",
    "\n",
    "# 상위 계층 연관 규칙 생성\n",
    "rules_upper = generate_rules(frequent_itemsets_upper)\n",
    "rules_df_upper = pd.DataFrame(rules_upper)\n",
    "print(\"Association Rules (Upper Level):\")\n",
    "print(rules_df_upper[['antecedents', 'consequents', 'support', 'confidence', 'lift']])\n",
    "\n",
    "# 하위 계층 연관 규칙 생성\n",
    "rules_lower = generate_rules(frequent_itemsets_lower)\n",
    "rules_df_lower = pd.DataFrame(rules_lower)\n",
    "print(\"\\nAssociation Rules (Lower Level):\")\n",
    "print(rules_df_lower[['antecedents', 'consequents', 'support', 'confidence', 'lift']])\n",
    "\n"
   ]
  },
  {
   "cell_type": "code",
   "execution_count": 61,
   "metadata": {
    "id": "9teFgv9NTMVq"
   },
   "outputs": [
    {
     "data": {
      "image/png": "[encoded data removed]",
      "text/plain": [
       "<Figure size 640x480 with 1 Axes>"
      ]
     },
     "metadata": {},
     "output_type": "display_data"
    },
    {
     "name": "stdout",
     "output_type": "stream",
     "text": [
      "Association Rules (Multi-dimensional):\n",
      "                                 antecedents        consequents  support  \\\n",
      "0                                    (bread)             (milk)      0.4   \n",
      "1                                     (milk)            (bread)      0.4   \n",
      "2                                   (butter)             (milk)      0.4   \n",
      "3                                     (milk)           (butter)      0.4   \n",
      "4                              (Gender_Male)             (milk)      0.4   \n",
      "..                                       ...                ...      ...   \n",
      "72             (milk, Category_Dairy, bread)  (Category_Bakery)      0.4   \n",
      "73  (Category_Bakery, Gender_Female, butter)            (bread)      0.4   \n",
      "74   (Category_Bakery, Gender_Female, bread)           (butter)      0.4   \n",
      "75          (Category_Bakery, butter, bread)    (Gender_Female)      0.4   \n",
      "76            (Gender_Female, butter, bread)  (Category_Bakery)      0.4   \n",
      "\n",
      "    confidence      lift  \n",
      "0     0.500000  0.833333  \n",
      "1     0.666667  0.833333  \n",
      "2     0.500000  0.833333  \n",
      "3     0.666667  0.833333  \n",
      "4     0.666667  1.111111  \n",
      "..         ...       ...  \n",
      "72    1.000000  1.250000  \n",
      "73    1.000000  1.250000  \n",
      "74    1.000000  1.250000  \n",
      "75    0.666667  1.666667  \n",
      "76    1.000000  1.250000  \n",
      "\n",
      "[77 rows x 5 columns]\n"
     ]
    },
    {
     "name": "stderr",
     "output_type": "stream",
     "text": [
      "C:\\python\\Lib\\site-packages\\mlxtend\\frequent_patterns\\fpcommon.py:161: DeprecationWarning: DataFrames with non-bool types result in worse computationalperformance and their support might be discontinued in the future.Please use a DataFrame with bool type\n",
      "  warnings.warn(\n"
     ]
    }
   ],
   "source": [
    "# [5] Multi-dimensional Association Rules\n",
    "import pandas as pd\n",
    "from mlxtend.frequent_patterns import apriori\n",
    "import matplotlib.pyplot as plt\n",
    "from itertools import combinations\n",
    "\n",
    "# 데이터셋 생성 (Multi-dimensional 구조)\n",
    "data = {\n",
    "    'TID': [1, 2, 3, 4, 5],\n",
    "    'milk': [1, 1, 0, 1, 0],\n",
    "    'bread': [1, 1, 1, 0, 1],\n",
    "    'butter': [0, 1, 1, 1, 1],\n",
    "    'Gender_Male': [1, 0, 0, 1, 1],\n",
    "    'Gender_Female': [0, 1, 1, 0, 0],\n",
    "    'Category_Dairy': [1, 1, 0, 1, 0],\n",
    "    'Category_Bakery': [1, 1, 1, 0, 1]\n",
    "}\n",
    "df = pd.DataFrame(data).set_index('TID')\n",
    "\n",
    "# 원본 데이터 시각화\n",
    "item_counts = df[['milk', 'bread', 'butter']].sum()\n",
    "item_counts.plot(kind='bar', color='orange')\n",
    "plt.title('Item Frequency (Multi-dimensional Association Rules)')\n",
    "plt.xlabel('Items')\n",
    "plt.ylabel('Frequency')\n",
    "plt.show()\n",
    "\n",
    "# apriori 알고리즘을 사용하여 빈발 항목 집합 생성\n",
    "frequent_itemsets = apriori(df, min_support=0.4, use_colnames=True)\n",
    "frequent_itemsets['length'] = frequent_itemsets['itemsets'].apply(lambda x: len(x))\n",
    "\n",
    "# 연관 규칙 수동 계산\n",
    "def generate_rules(frequent_itemsets):\n",
    "    rules = []\n",
    "    for itemset in frequent_itemsets['itemsets']:\n",
    "        if len(itemset) > 1:\n",
    "            for antecedent in combinations(itemset, len(itemset) - 1):\n",
    "                antecedent = frozenset(antecedent)\n",
    "                consequent = itemset - antecedent\n",
    "                \n",
    "                # 지지도 계산\n",
    "                support = frequent_itemsets[frequent_itemsets['itemsets'] == itemset]['support'].values[0]\n",
    "                \n",
    "                # 신뢰도 계산\n",
    "                antecedent_support = frequent_itemsets[frequent_itemsets['itemsets'] == antecedent]['support'].values[0]\n",
    "                confidence = support / antecedent_support\n",
    "                \n",
    "                # 향상도 계산\n",
    "                consequent_support = frequent_itemsets[frequent_itemsets['itemsets'] == consequent]['support'].values[0]\n",
    "                lift = confidence / consequent_support\n",
    "                \n",
    "                # 규칙 저장\n",
    "                rules.append({\n",
    "                    'antecedents': antecedent,\n",
    "                    'consequents': consequent,\n",
    "                    'support': support,\n",
    "                    'confidence': confidence,\n",
    "                    'lift': lift\n",
    "                })\n",
    "    return rules\n",
    "\n",
    "# Multi-dimensional 연관 규칙 생성\n",
    "rules = generate_rules(frequent_itemsets)\n",
    "rules_df = pd.DataFrame(rules)\n",
    "print(\"Association Rules (Multi-dimensional):\")\n",
    "print(rules_df[['antecedents', 'consequents', 'support', 'confidence', 'lift']])\n"
   ]
  },
  {
   "cell_type": "code",
   "execution_count": 63,
   "metadata": {
    "id": "4kB2jKbbTIbH"
   },
   "outputs": [
    {
     "data": {
      "image/png": "[encoded data removed]",
      "text/plain": [
       "<Figure size 640x480 with 1 Axes>"
      ]
     },
     "metadata": {},
     "output_type": "display_data"
    },
    {
     "name": "stdout",
     "output_type": "stream",
     "text": [
      "최적의 해: milk      1\n",
      "bread     1\n",
      "butter    0\n",
      "Name: 1, dtype: int64\n",
      "최적의 적합도: 2.2\n",
      "\n",
      "평가 결과:\n",
      "지지도(Support): 0.6666666666666666\n",
      "신뢰도(Confidence): 1.0\n",
      "향상도(Lift): 1.5\n"
     ]
    },
    {
     "data": {
      "image/png": "[encoded data removed]",
      "text/plain": [
       "<Figure size 640x480 with 1 Axes>"
      ]
     },
     "metadata": {},
     "output_type": "display_data"
    }
   ],
   "source": [
    "# [6] AIS(Artificial Immune System)\n",
    "import pandas as pd\n",
    "import numpy as np\n",
    "import matplotlib.pyplot as plt\n",
    "\n",
    "# 데이터셋 생성\n",
    "data = {\n",
    "    'TID': [1, 2, 3, 4, 5],\n",
    "    'milk': [1, 1, 0, 1, 0],\n",
    "    'bread': [1, 1, 1, 0, 1],\n",
    "    'butter': [0, 1, 1, 1, 1],\n",
    "}\n",
    "df = pd.DataFrame(data).set_index('TID')\n",
    "\n",
    "# 데이터 시각화\n",
    "item_counts = df.sum()\n",
    "item_counts.plot(kind='bar', color='blue')\n",
    "plt.title('Item Frequency')\n",
    "plt.xlabel('Items')\n",
    "plt.ylabel('Frequency')\n",
    "plt.show()\n",
    "\n",
    "# AIS 알고리즘 설정\n",
    "population_size = 10         # 초기 항체(해) 개수\n",
    "num_generations = 10         # 반복할 세대 수\n",
    "mutation_rate = 0.1          # 돌연변이율\n",
    "selection_rate = 0.5         # 선택률\n",
    "\n",
    "# 적합도 함수 정의 (예: milk, bread, butter 구매 조합의 점수화)\n",
    "def fitness(antibody):\n",
    "    # 항체의 적합도를 milk, bread, butter의 합으로 정의\n",
    "    return antibody['milk'] * 1 + antibody['bread'] * 1.2 + antibody['butter'] * 0.8\n",
    "\n",
    "# 초기 항체(해) 생성 (milk, bread, butter 구매 유무에 따라 항체 구성)\n",
    "population = [df.sample(1, replace=True).squeeze() for _ in range(population_size)]\n",
    "fitness_scores = np.array([fitness(antibody) for antibody in population])\n",
    "\n",
    "# AIS 알고리즘 실행\n",
    "for generation in range(num_generations):\n",
    "    # 선택: 상위 selection_rate 비율의 항체만 유지\n",
    "    num_selected = int(selection_rate * population_size)\n",
    "    selected_indices = np.argsort(fitness_scores)[-num_selected:]\n",
    "    selected_population = [population[i] for i in selected_indices]\n",
    "    \n",
    "    # 복제 및 돌연변이\n",
    "    offspring = []\n",
    "    for antibody in selected_population:\n",
    "        # 복제\n",
    "        cloned = antibody.copy()\n",
    "        # 돌연변이 적용\n",
    "        for item in ['milk', 'bread', 'butter']:\n",
    "            if np.random.rand() < mutation_rate:\n",
    "                cloned[item] = 1 - cloned[item]  # 0이면 1로, 1이면 0으로 변경\n",
    "        offspring.append(cloned)\n",
    "    \n",
    "    # 새 세대 생성\n",
    "    population = offspring\n",
    "    fitness_scores = np.array([fitness(antibody) for antibody in population])\n",
    "\n",
    "# 최적의 항체 선택\n",
    "best_solution = population[np.argmax(fitness_scores)]\n",
    "best_fitness = fitness(best_solution)\n",
    "\n",
    "# 결과 출력\n",
    "print(\"최적의 해:\", best_solution)\n",
    "print(\"최적의 적합도:\", best_fitness)\n",
    "\n",
    "# 평가 결과 (유사 지지도, 신뢰도, 향상도)\n",
    "support = sum(best_solution) / len(best_solution)\n",
    "confidence = best_fitness / max(fitness_scores)\n",
    "lift = confidence / (support if support != 0 else 1)\n",
    "\n",
    "print(\"\\n평가 결과:\")\n",
    "print(f\"지지도(Support): {support}\")\n",
    "print(f\"신뢰도(Confidence): {confidence}\")\n",
    "print(f\"향상도(Lift): {lift}\")\n",
    "\n",
    "# 최종 항체 적합도 분포 시각화\n",
    "plt.plot(range(len(fitness_scores)), fitness_scores, 'bo')\n",
    "plt.xlabel(\"Antibody Index\")\n",
    "plt.ylabel(\"Fitness Score\")\n",
    "plt.title(\"AIS Antibody Fitness Distribution\")\n",
    "plt.show()\n"
   ]
  },
  {
   "cell_type": "code",
   "execution_count": 65,
   "metadata": {
    "id": "UesHmXk7TIeH"
   },
   "outputs": [
    {
     "data": {
      "image/png": "[encoded data removed]",
      "text/plain": [
       "<Figure size 640x480 with 1 Axes>"
      ]
     },
     "metadata": {},
     "output_type": "display_data"
    },
    {
     "name": "stdout",
     "output_type": "stream",
     "text": [
      "Association Rules (SETM):\n",
      "  antecedents consequents  support  confidence      lift\n",
      "0     (bread)      (milk)      0.4    0.500000  0.833333\n",
      "1      (milk)     (bread)      0.4    0.666667  0.833333\n",
      "2    (butter)      (milk)      0.4    0.666667  1.111111\n",
      "3      (milk)    (butter)      0.4    0.666667  1.111111\n",
      "4    (butter)     (bread)      0.4    0.666667  0.833333\n",
      "5     (bread)    (butter)      0.4    0.500000  0.833333\n"
     ]
    }
   ],
   "source": [
    "# [7] SETM(Sequential Execution of Transaction Merging)\n",
    "import pandas as pd\n",
    "from itertools import combinations\n",
    "import matplotlib.pyplot as plt\n",
    "\n",
    "# 데이터셋 생성\n",
    "data = {\n",
    "    'TID': [1, 2, 3, 4, 5],\n",
    "    'items': [\n",
    "        ['milk', 'bread'],\n",
    "        ['milk', 'bread', 'butter'],\n",
    "        ['bread', 'butter'],\n",
    "        ['milk', 'butter'],\n",
    "        ['bread']\n",
    "    ]\n",
    "}\n",
    "\n",
    "# 데이터프레임으로 변환\n",
    "df = pd.DataFrame(data).set_index('TID')\n",
    "\n",
    "# 원본 데이터 시각화 (항목별 빈도)\n",
    "item_counts = pd.Series([item for sublist in df['items'] for item in sublist]).value_counts()\n",
    "item_counts.plot(kind='bar', color='green')\n",
    "plt.title('Item Frequency (SETM)')\n",
    "plt.xlabel('Items')\n",
    "plt.ylabel('Frequency')\n",
    "plt.show()\n",
    "\n",
    "# 빈발 항목 집합 계산 (min_support 이상인 항목 집합만 선택)\n",
    "min_support = 0.4\n",
    "num_transactions = len(df)\n",
    "frequent_itemsets = {}\n",
    "\n",
    "for transaction in df['items']:\n",
    "    for i in range(1, len(transaction) + 1):\n",
    "        for combination in combinations(transaction, i):\n",
    "            combination = frozenset(combination)\n",
    "            if combination in frequent_itemsets:\n",
    "                frequent_itemsets[combination] += 1\n",
    "            else:\n",
    "                frequent_itemsets[combination] = 1\n",
    "\n",
    "# 지지도 기반으로 필터링\n",
    "frequent_itemsets = {itemset: support / num_transactions \n",
    "                     for itemset, support in frequent_itemsets.items() \n",
    "                     if support / num_transactions >= min_support}\n",
    "\n",
    "# 연관 규칙 생성 및 평가\n",
    "rules = []\n",
    "for itemset, support in frequent_itemsets.items():\n",
    "    if len(itemset) > 1:\n",
    "        for antecedent in combinations(itemset, len(itemset) - 1):\n",
    "            antecedent = frozenset(antecedent)\n",
    "            consequent = itemset - antecedent\n",
    "            \n",
    "            # 지지도 계산\n",
    "            antecedent_support = frequent_itemsets.get(antecedent, 0)\n",
    "            consequent_support = frequent_itemsets.get(consequent, 0)\n",
    "            confidence = support / antecedent_support if antecedent_support > 0 else 0\n",
    "            lift = confidence / consequent_support if consequent_support > 0 else 0\n",
    "            \n",
    "            rules.append({\n",
    "                'antecedents': antecedent,\n",
    "                'consequents': consequent,\n",
    "                'support': support,\n",
    "                'confidence': confidence,\n",
    "                'lift': lift\n",
    "            })\n",
    "\n",
    "# 결과를 DataFrame으로 변환하여 출력\n",
    "rules_df = pd.DataFrame(rules)\n",
    "print(\"Association Rules (SETM):\")\n",
    "print(rules_df[['antecedents', 'consequents', 'support', 'confidence', 'lift']])\n"
   ]
  },
  {
   "cell_type": "code",
   "execution_count": null,
   "metadata": {
    "id": "U8XgrGRhTBkr"
   },
   "outputs": [],
   "source": []
  },
  {
   "cell_type": "code",
   "execution_count": null,
   "metadata": {
    "id": "FTUNi32NS-68",
    "outputId": "34be9dba-9a90-4733-dae8-bc542fa95986"
   },
   "outputs": [],
   "source": [
    "###############################################################\n",
    "# 주성분 추출 단계 : wine.data\n",
    "###############################################################\n",
    "\n",
    "import pandas as pd\n",
    "\n",
    "df_wine = pd.read_csv('https://archive.ics.uci.edu/ml/'\n",
    "                      'machine-learning-databases/wine/wine.data',\n",
    "                      header=None)\n",
    "\n",
    "# UCI 머신 러닝 저장소에서 Wine 데이터셋을 다운로드할 수 없을 때\n",
    "# 다음 주석을 해제하고 로컬 경로에서 데이터셋을 적재\n",
    "\n",
    "# df_wine = pd.read_csv('wine.data', header=None)\n",
    "\n",
    "df_wine.columns = ['Class label', 'Alcohol', 'Malic acid', 'Ash',\n",
    "                   'Alcalinity of ash', 'Magnesium', 'Total phenols',\n",
    "                   'Flavanoids', 'Nonflavanoid phenols', 'Proanthocyanins',\n",
    "                   'Color intensity', 'Hue',\n",
    "                   'OD280/OD315 of diluted wines', 'Proline']\n",
    "\n",
    "df_wine.head()"
   ]
  },
  {
   "cell_type": "code",
   "execution_count": null,
   "metadata": {
    "id": "phzsy-ZGS-69"
   },
   "outputs": [],
   "source": [
    "###############################################################\n",
    "# 주성분 추출 단계 : 70%는 훈련 세트로 30%는 테스트 세트로 나눈다.\n",
    "###############################################################\n",
    "\n",
    "from sklearn.model_selection import train_test_split\n",
    "\n",
    "X, y = df_wine.iloc[:, 1:].values, df_wine.iloc[:, 0].values\n",
    "\n",
    "X_train, X_test, y_train, y_test = \\\n",
    "    train_test_split(X, y, test_size=0.3,\n",
    "                     stratify=y,\n",
    "                     random_state=0)"
   ]
  },
  {
   "cell_type": "code",
   "execution_count": null,
   "metadata": {
    "id": "atJE9dKGS-69"
   },
   "outputs": [],
   "source": [
    "###############################################################\n",
    "# 주성분 추출 단계 : 데이터 표준\n",
    "###############################################################\n",
    "from sklearn.preprocessing import StandardScaler\n",
    "\n",
    "sc = StandardScaler()\n",
    "X_train_std = sc.fit_transform(X_train)\n",
    "X_test_std = sc.transform(X_test)"
   ]
  },
  {
   "cell_type": "markdown",
   "metadata": {
    "id": "DK8v7gu4S-69"
   },
   "source": [
    "\n",
    "X_test_std = sc.fit_transform(X_test) 대신에 X_test_std = sc.transform(X_test)를 사용했습니다. 이 경우에 테스트 데이터셋의 평균과 표준편차가 훈련 데이터셋과 매우 비슷하기 때문에 큰 차이가 없습니다. 하지만 3장에서 보았듯이 데이터를 변환할 때 훈련 데이터셋에서 학습한 파라미터를 재사용하는 것이 올바른 방법입니다. 테스트 데이터셋은 \"새로운 본 적 없는\" 데이터를 의미하기 때문입니다.\n",
    "\n",
    "초기에 fit_transform(X_test)를 사용했는데 이것은 모델 훈련에서 얻은 파라미터를 재사용하여 새로운 데이터를 표준화하지 않는 일반적인 실수입니다. 왜 이것이 문제가 되는지 간단한 예를 살펴 보겠습니다.\n",
    "\n",
    "훈련 데이터셋에 1개의 특성(\"길이\")을 가진 샘플 3개가 들어 있다고 가정해 보죠:\n",
    "\n",
    "train_1: 10 cm -> class_2\n",
    "train_2: 20 cm -> class_2\n",
    "train_3: 30 cm -> class_1\n",
    "mean: 20, std.: 8.2\n",
    "\n",
    "표준화를 한 후에 변환된 특성 값은 다음과 같습니다:\n",
    "\n",
    "train_std_1: -1.22 -> class_2\n",
    "train_std_2: 0 -> class_2\n",
    "train_std_3: 1.22 -> class_1\n",
    "그다음 표준화된 길이가 0.6보다 작은 샘플을 class_2로 분류한다고 가정해 보죠(그 외에는 class_1). 지금까지는 좋습니다. 이제 레이블이 없는 3개의 포인트를 분류한다고 가정해 보죠:\n",
    "\n",
    "new_4: 5 cm -> class ?\n",
    "new_5: 6 cm -> class ?\n",
    "new_6: 7 cm -> class ?\n",
    "훈련 데이터셋에 있는 표준화되기 전의 \"길이\" 값과 비교해 보면 직관적으로 이 샘플들은 class_2로 보입니다. 하지만 훈련 데이터셋에서 했던 것처럼 평균과 표준편차를 다시 계산하여 표준화하면 아마도 분류기가 샘플 4번과 5번만 class_2로 분류할 것입니다.\n",
    "\n",
    "new_std_4: -1.22 -> class 2\n",
    "new_std_5: 0 -> class 2\n",
    "new_std_6: 1.22 -> class 1\n",
    "하지만 훈련 데이터셋의 표준화에 사용했던 파라미터를 사용하면 다음과 같은 값을 얻습니다:\n",
    "\n",
    "example5: -1.84 -> class 2\n",
    "example6: -1.71 -> class 2\n",
    "example7: -1.59 -> class 2\n",
    "5 cm, 6 cm, 7 cm는 훈련 데이터셋에 있는 어떤 것보다도 작습니다. 따라서 훈련 데이터셋을 표준화한 값보다도 훨씬 작은 값으로 표준화되어야 합니다."
   ]
  },
  {
   "cell_type": "code",
   "execution_count": null,
   "metadata": {
    "id": "QUCUwLeKS-6-",
    "outputId": "f24bfe96-995b-4158-a8a3-0f33603e26e2"
   },
   "outputs": [],
   "source": [
    "###############################################################\n",
    "# 주성분 추출 단계 : 공분산 행렬의 고윳값 분해\n",
    "# 설명된 분산비율 : 고유벡터(주성분) 순서대로 정렬\n",
    "###############################################################\n",
    "import numpy as np\n",
    "cov_mat = np.cov(X_train_std.T)\n",
    "eigen_vals, eigen_vecs = np.linalg.eig(cov_mat)\n",
    "\n",
    "print('\\n고윳값 \\n%s' % eigen_vals)"
   ]
  },
  {
   "cell_type": "markdown",
   "metadata": {
    "id": "NSi0NQetS-6-"
   },
   "source": [
    "위에서 numpy.linalg.eig 함수를 사용해 대칭 공분산 행렬을 고윳값과 고유벡터로 분해했습니다.\n",
    "\n",
    ">>> eigen_vals, eigen_vecs = np.linalg.eig(cov_mat)\n",
    "이것이 잘못된 것은 아니지만 최적은 아닙니다. 에르미트(Hermetian) 행렬를 위해서 설계된 numpy.linalg.eigh를 사용하는 것이 더 좋습니다. 이 함수는 항상 실수 고윳값을 반환합니다. 수치적으로 약간 덜 안정적인 np.linalg.eig는 비대칭 정방행렬을 분해할 수 있지만 어떤 경우에 복소수 고윳값을 반환할 수 있습니다."
   ]
  },
  {
   "cell_type": "code",
   "execution_count": null,
   "metadata": {
    "id": "cU_RsrvNS-6-",
    "outputId": "7df49956-6721-42ee-870f-889e1121d6cd"
   },
   "outputs": [],
   "source": [
    "###############################################################\n",
    "# 주성분 추출 단계 : 총분산과 설명된 분산 13개주성분 -> 3개 차원으로 압축\n",
    "###############################################################\n",
    "tot = sum(eigen_vals)\n",
    "var_exp = [(i / tot) for i in sorted(eigen_vals, reverse=True)]\n",
    "cum_var_exp = np.cumsum(var_exp)\n",
    "\n",
    "import matplotlib.pyplot as plt\n",
    "\n",
    "\n",
    "plt.bar(range(1, 14), var_exp, alpha=0.5, align='center',\n",
    "        label='Individual explained variance')\n",
    "plt.step(range(1, 14), cum_var_exp, where='mid',\n",
    "         label='Cumulative explained variance')\n",
    "plt.ylabel('Explained variance ratio')\n",
    "plt.xlabel('Principal component index')\n",
    "plt.legend(loc='best')\n",
    "plt.tight_layout()\n",
    "# plt.savefig('images/05_02.png', dpi=300)\n",
    "plt.show()\n"
   ]
  },
  {
   "cell_type": "code",
   "execution_count": null,
   "metadata": {
    "id": "XQq6jCeAS-6-",
    "outputId": "40d8b313-4c60-4c2b-add3-7654d197f6bd"
   },
   "outputs": [],
   "source": [
    "################\n",
    "# 특성 변환\n",
    "################\n",
    "# (고윳값, 고유벡터) 튜플의 리스트를 만듭니다\n",
    "eigen_pairs = [(np.abs(eigen_vals[i]), eigen_vecs[:, i])\n",
    "               for i in range(len(eigen_vals))]\n",
    "\n",
    "# 높은 값에서 낮은 값으로 (고윳값, 고유벡터) 튜플을 정렬합니다\n",
    "eigen_pairs.sort(key=lambda k: k[0], reverse=True)\n",
    "\n",
    "w = np.hstack((eigen_pairs[0][1][:, np.newaxis],\n",
    "               eigen_pairs[1][1][:, np.newaxis]))\n",
    "print('투영 행렬 W:\\n', w)"
   ]
  },
  {
   "cell_type": "code",
   "execution_count": null,
   "metadata": {
    "id": "E3sijYpbS-6_",
    "outputId": "4597b356-a031-4ab7-cdef-c700917e0ece"
   },
   "outputs": [],
   "source": [
    "# (n,13)(13,2) = (n,2)\n",
    "X_train_std[0].dot(w)"
   ]
  },
  {
   "cell_type": "code",
   "execution_count": null,
   "metadata": {
    "id": "I5fSRqBXS-6_",
    "outputId": "ba2e4266-52f4-4d7d-fead-d69cc7b91686"
   },
   "outputs": [],
   "source": [
    "X_train_pca = X_train_std.dot(w)\n",
    "colors = ['r', 'b', 'g']\n",
    "markers = ['s', 'x', 'o']\n",
    "\n",
    "for l, c, m in zip(np.unique(y_train), colors, markers):\n",
    "    plt.scatter(X_train_pca[y_train == l, 0],\n",
    "                X_train_pca[y_train == l, 1],\n",
    "                c=c, label=l, marker=m)\n",
    "\n",
    "plt.xlabel('PC 1')\n",
    "plt.ylabel('PC 2')\n",
    "plt.legend(loc='lower left')\n",
    "plt.tight_layout()\n",
    "# plt.savefig('images/05_03.png', dpi=300)\n",
    "plt.show()"
   ]
  },
  {
   "cell_type": "code",
   "execution_count": null,
   "metadata": {
    "id": "me7OOFC9S-6_",
    "outputId": "707995cf-ef3e-49eb-cb73-48d1bdcfce6e"
   },
   "outputs": [],
   "source": [
    "####################################################\n",
    "# 사이킷런의 주성분 분석\n",
    "####################################################\n",
    "from sklearn.decomposition import PCA\n",
    "\n",
    "pca = PCA()\n",
    "X_train_pca = pca.fit_transform(X_train_std)\n",
    "print(pca.explained_variance_ratio_)\n",
    "\n",
    "plt.bar(range(1, 14), pca.explained_variance_ratio_, alpha=0.5, align='center')\n",
    "plt.step(range(1, 14), np.cumsum(pca.explained_variance_ratio_), where='mid')\n",
    "plt.ylabel('Explained variance ratio')\n",
    "plt.xlabel('Principal components')\n",
    "\n",
    "plt.show()\n",
    "\n",
    "pca = PCA(n_components=2)\n",
    "X_train_pca = pca.fit_transform(X_train_std)\n",
    "X_test_pca = pca.transform(X_test_std)\n",
    "plt.scatter(X_train_pca[:, 0], X_train_pca[:, 1])\n",
    "plt.xlabel('PC 1')\n",
    "plt.ylabel('PC 2')\n",
    "plt.show()\n"
   ]
  },
  {
   "cell_type": "code",
   "execution_count": null,
   "metadata": {
    "id": "1OqHdvJPS-6_",
    "outputId": "fed3f13d-582e-476e-d9d6-ee86cdc2b889"
   },
   "outputs": [],
   "source": [
    "###################################\n",
    "# 로지스틱 회귀 분류기를 훈련\n",
    "###################################\n",
    "\n",
    "from matplotlib.colors import ListedColormap\n",
    "\n",
    "def plot_decision_regions(X, y, classifier, resolution=0.02):\n",
    "\n",
    "    # 마커와 컬러맵을 준비합니다\n",
    "    markers = ('s', 'x', 'o', '^', 'v')\n",
    "    colors = ('red', 'blue', 'lightgreen', 'gray', 'cyan')\n",
    "    cmap = ListedColormap(colors[:len(np.unique(y))])\n",
    "\n",
    "    # 결정 경계를 그립니다\n",
    "    x1_min, x1_max = X[:, 0].min() - 1, X[:, 0].max() + 1\n",
    "    x2_min, x2_max = X[:, 1].min() - 1, X[:, 1].max() + 1\n",
    "    xx1, xx2 = np.meshgrid(np.arange(x1_min, x1_max, resolution),\n",
    "                           np.arange(x2_min, x2_max, resolution))\n",
    "    Z = classifier.predict(np.array([xx1.ravel(), xx2.ravel()]).T)\n",
    "    Z = Z.reshape(xx1.shape)\n",
    "    plt.contourf(xx1, xx2, Z, alpha=0.4, cmap=cmap)\n",
    "    plt.xlim(xx1.min(), xx1.max())\n",
    "    plt.ylim(xx2.min(), xx2.max())\n",
    "\n",
    "    # 클래스별로 샘플을 그립니다\n",
    "    for idx, cl in enumerate(np.unique(y)):\n",
    "        plt.scatter(x=X[y == cl, 0],\n",
    "                    y=X[y == cl, 1],\n",
    "                    alpha=0.6,\n",
    "                    color=cmap(idx),\n",
    "                    edgecolor=None if idx==1 else 'black',\n",
    "                    marker=markers[idx],\n",
    "                    label=cl)\n",
    "\n",
    "from sklearn.linear_model import LogisticRegression\n",
    "\n",
    "pca = PCA(n_components=2)\n",
    "X_train_pca = pca.fit_transform(X_train_std)\n",
    "X_test_pca = pca.transform(X_test_std)\n",
    "\n",
    "lr = LogisticRegression(random_state=1)\n",
    "lr = lr.fit(X_train_pca, y_train)\n",
    "\n",
    "plot_decision_regions(X_train_pca, y_train, classifier=lr)\n",
    "plt.xlabel('PC 1')\n",
    "plt.ylabel('PC 2')\n",
    "plt.legend(loc='lower left')\n",
    "plt.tight_layout()\n",
    "# plt.savefig('images/05_04.png', dpi=300)\n",
    "plt.show()"
   ]
  },
  {
   "cell_type": "code",
   "execution_count": null,
   "metadata": {
    "id": "BBCoZtOES-6_",
    "outputId": "6ab7cdb0-8d80-4ec4-eaa0-d4a02f6ced9b"
   },
   "outputs": [],
   "source": [
    "# test set\n",
    "plot_decision_regions(X_test_pca, y_test, classifier=lr)\n",
    "plt.xlabel('PC 1')\n",
    "plt.ylabel('PC 2')\n",
    "plt.legend(loc='lower left')\n",
    "plt.tight_layout()\n",
    "# plt.savefig('images/05_05.png', dpi=300)\n",
    "plt.show()"
   ]
  },
  {
   "cell_type": "code",
   "execution_count": null,
   "metadata": {
    "id": "QAnnsG2yS-7A",
    "outputId": "f6161b7b-1d0d-45c2-db31-523b7080768b"
   },
   "outputs": [],
   "source": [
    "# 13개 주성분 찾기\n",
    "pca = PCA(n_components=None)\n",
    "X_train_pca = pca.fit_transform(X_train_std)\n",
    "pca.explained_variance_ratio_"
   ]
  },
  {
   "cell_type": "code",
   "execution_count": null,
   "metadata": {
    "id": "gHmrNZsCS-7A",
    "outputId": "f7dbf624-08dc-4314-e4a0-ac721a72f7e5"
   },
   "outputs": [],
   "source": [
    "# n_components에 (0, 1) 사이 실수를 입력하면 설명된 분산의 비율을 나타냅니다. 이 비율을 달성하기 위해 필요한 주성분 개수를 선택합니다.\n",
    "pca = PCA(n_components=0.95)\n",
    "pca.fit(X_train_std)\n",
    "print('주성분 개수:', pca.n_components_)\n",
    "print('설명된 분산 비율:', np.sum(pca.explained_variance_ratio_))"
   ]
  },
  {
   "cell_type": "code",
   "execution_count": null,
   "metadata": {
    "id": "mdFZXgtPS-7A",
    "outputId": "7acf9e64-7d35-493d-f80e-8d8881c37d67"
   },
   "outputs": [],
   "source": [
    "# n_components='mle'로 지정하면 토마스 민카(Thomas Minka)가 제안한 차원 선택 방식을 사용합니다(Minka, T. P. “Automatic choice of dimensionality for PCA”. In NIPS, pp. 598-604).\n",
    "pca = PCA(n_components='mle')\n",
    "pca.fit(X_train_std)\n",
    "print('주성분 개수:', pca.n_components_)\n",
    "print('설명된 분산 비율:', np.sum(pca.explained_variance_ratio_))"
   ]
  },
  {
   "cell_type": "markdown",
   "metadata": {
    "id": "XJoW7gRQS-7A"
   },
   "source": [
    "PCA의 가장 큰 제약 사항 중 하나는 배치로만 실행되기 때문에 대용량 데이터셋을 처리하려면 많은 메모리가 필요합니다. IncrementalPCA를 사용하면 데이터셋의 일부를 사용하여 반복적으로 훈련할 수 있습니다.\n",
    "\n",
    "partial_fit() 메서드는 네트워크나 로컬 파일 시스템으로부터 조금씩 데이터를 받아와 훈련할 수 있습니다. fit() 메서드는 numpy.memmap을 사용하여 로컬 파일로부터 데이터를 조금씩 읽어 올 수 있습니다. 한 번에 읽어 올 데이터 크기는 IncrementalPCA 클래스의 batch_size로 지정합니다. 기본값은 특성 개수의 5배입니다.\n",
    "\n",
    "IncrementalPCA의 n_components 매개변수는 정수 값만 입력할 수 있습니다. 다음은 partial_fit() 메서드를 사용하여 앞의 PCA로 찾은 주성분의 결과와 비교하는 간단한 예입니다."
   ]
  },
  {
   "cell_type": "code",
   "execution_count": null,
   "metadata": {
    "id": "5PAzbVqxS-7A",
    "outputId": "1213bb3f-cd2d-43bc-be57-d4240bcba586"
   },
   "outputs": [],
   "source": [
    "# 점진적으로 훈련데이터를 사용\n",
    "from sklearn.decomposition import IncrementalPCA\n",
    "\n",
    "ipca = IncrementalPCA(n_components=9)\n",
    "for batch in range(len(X_train_std)//25+1):\n",
    "    X_batch = X_train_std[batch*25:(batch+1)*25]\n",
    "    ipca.partial_fit(X_batch)\n",
    "\n",
    "print('주성분 개수:', ipca.n_components_)\n",
    "print('설명된 분산 비율:', np.sum(ipca.explained_variance_ratio_))"
   ]
  },
  {
   "cell_type": "code",
   "execution_count": null,
   "metadata": {
    "id": "zLL2CfQlS-7A",
    "outputId": "2f5efaeb-385c-4d15-b97e-67cefc36a094"
   },
   "outputs": [],
   "source": [
    "############################\n",
    "# 선형판별분석\n",
    "# 레이블이 필요(지도학습)\n",
    "############################\n",
    "# 1. 표준화 전처리\n",
    "# 2. 클래스별 평균 벡터(지도학습)\n",
    "# 3. 클래스 간 산포 행렬 S_B, 클래스 내 산포 행렬 S_W\n",
    "# 4. S_W^-1S_B행렬의 고윳값\n",
    "# 5. 고윳값을 내림차순 정렬\n",
    "# 6. 고윳값이 가장 큰 k개의 고유 벡터 선택\n",
    "# 7. 고유 벡터로 만든 변환 행렬로 데이터셋 투영\n",
    "\n",
    "\n",
    "# 산포 행렬 계산\n",
    "np.set_printoptions(precision=4)\n",
    "\n",
    "mean_vecs = []\n",
    "for label in range(1, 4):\n",
    "    mean_vecs.append(np.mean(X_train_std[y_train == label], axis=0))\n",
    "    print('MV %s: %s\\n' % (label, mean_vecs[label - 1]))"
   ]
  },
  {
   "cell_type": "code",
   "execution_count": null,
   "metadata": {
    "id": "I7Cm3mvMS-7A",
    "outputId": "2fcffd04-27d2-4d24-9a40-2faa6a619b4e"
   },
   "outputs": [],
   "source": [
    "# 클래스 내 산포 행렬을 계산\n",
    "d = 13 # 특성의 수\n",
    "S_W = np.zeros((d, d))\n",
    "for label, mv in zip(range(1, 4), mean_vecs):\n",
    "    class_scatter = np.zeros((d, d))  # 각 클래스에 대한 산포 행렬\n",
    "    for row in X_train_std[y_train == label]:\n",
    "        row, mv = row.reshape(d, 1), mv.reshape(d, 1)  # 열 벡터를 만듭니다\n",
    "        class_scatter += (row - mv).dot((row - mv).T)\n",
    "    S_W += class_scatter                          # 클래스 산포 행렬을 더합니다\n",
    "\n",
    "print('클래스 내의 산포 행렬: %sx%s' % (S_W.shape[0], S_W.shape[1]))"
   ]
  },
  {
   "cell_type": "code",
   "execution_count": null,
   "metadata": {
    "id": "SkR2YoOkS-7A",
    "outputId": "85084a86-e4a2-45d0-e5c0-704522573813"
   },
   "outputs": [],
   "source": [
    "# 클래스가 균일하게 분포되어 있지 않기 때문에 공분산 행렬을 사용하는 것이 더 낫다:\n",
    "print('클래스 레이블 분포: %s'\n",
    "      % np.bincount(y_train)[1:])"
   ]
  },
  {
   "cell_type": "code",
   "execution_count": null,
   "metadata": {
    "id": "4aYrSw_iS-7B",
    "outputId": "f0e2e465-dd36-4ede-d862-56a634b88b24"
   },
   "outputs": [],
   "source": [
    "d = 13  # 특성의 수\n",
    "S_W = np.zeros((d, d))\n",
    "for label, mv in zip(range(1, 4), mean_vecs):\n",
    "    class_scatter = np.cov(X_train_std[y_train == label].T)\n",
    "    S_W += class_scatter\n",
    "print('스케일 조정된 클래스 내의 산포 행렬: %sx%s' %\n",
    "      (S_W.shape[0], S_W.shape[1]))"
   ]
  },
  {
   "cell_type": "code",
   "execution_count": null,
   "metadata": {
    "id": "dURfJBdxS-7B",
    "outputId": "b6308f0d-2b54-4bf5-b861-a6e3a3d25b0a"
   },
   "outputs": [],
   "source": [
    "# 클래스 간 산포 행렬을 계산\n",
    "mean_overall = np.mean(X_train_std, axis=0)\n",
    "mean_overall = mean_overall.reshape(d, 1)  # 열 벡터로 만들기\n",
    "d = 13  # 특성 개수\n",
    "S_B = np.zeros((d, d))\n",
    "for i, mean_vec in enumerate(mean_vecs):\n",
    "    n = X_train_std[y_train == i + 1, :].shape[0]\n",
    "    mean_vec = mean_vec.reshape(d, 1)  # 열 벡터로 만들기\n",
    "    S_B += n * (mean_vec - mean_overall).dot((mean_vec - mean_overall).T)\n",
    "\n",
    "print('클래스 간의 산포 행렬: %sx%s' % (S_B.shape[0], S_B.shape[1]))"
   ]
  },
  {
   "cell_type": "code",
   "execution_count": null,
   "metadata": {
    "id": "yR_2snnhS-7B"
   },
   "outputs": [],
   "source": [
    "# 새로운 특성 부분 공간을 위해 선형 판별 벡터 선택\n",
    "# 고윳값의 역순으로 고유 벡터를 정렬합니다(판별 벡터의 개수 = 클래스 개수 - 1):\n",
    "eigen_vals, eigen_vecs = np.linalg.eig(np.linalg.inv(S_W).dot(S_B))"
   ]
  },
  {
   "cell_type": "code",
   "execution_count": null,
   "metadata": {
    "id": "3cCVkTBzS-7B",
    "outputId": "158897d8-c4e1-4238-e6a6-3c3fc2768b84"
   },
   "outputs": [],
   "source": [
    "# (고윳값, 고유벡터) 튜플의 리스트를 만듭니다.\n",
    "eigen_pairs = [(np.abs(eigen_vals[i]), eigen_vecs[:, i])\n",
    "               for i in range(len(eigen_vals))]\n",
    "\n",
    "# (고윳값, 고유벡터) 튜플을 큰 값에서 작은 값 순서대로 정렬합니다.\n",
    "eigen_pairs = sorted(eigen_pairs, key=lambda k: k[0], reverse=True)\n",
    "\n",
    "# 고윳값의 역순으로 올바르게 정렬되었는지 확인합니다.\n",
    "print('내림차순의 고윳값:\\n')\n",
    "for eigen_val in eigen_pairs:\n",
    "    print(eigen_val[0])"
   ]
  },
  {
   "cell_type": "code",
   "execution_count": null,
   "metadata": {
    "id": "grAlOiFLS-7B",
    "outputId": "5a314cc1-15ba-4916-c42f-ee88dc3807e0"
   },
   "outputs": [],
   "source": [
    "tot = sum(eigen_vals.real)\n",
    "discr = [(i / tot) for i in sorted(eigen_vals.real, reverse=True)]\n",
    "cum_discr = np.cumsum(discr)\n",
    "\n",
    "plt.bar(range(1, 14), discr, alpha=0.5, align='center',\n",
    "        label='Individual \"discriminability\"')\n",
    "plt.step(range(1, 14), cum_discr, where='mid',\n",
    "         label='Cumulative \"discriminability\"')\n",
    "plt.ylabel('\"Discriminability\" ratio')\n",
    "plt.xlabel('Linear discriminants')\n",
    "plt.ylim([-0.1, 1.1])\n",
    "plt.legend(loc='best')\n",
    "plt.tight_layout()\n",
    "# plt.savefig('images/05_07.png', dpi=300)\n",
    "plt.show()"
   ]
  },
  {
   "cell_type": "code",
   "execution_count": null,
   "metadata": {
    "id": "wBF_cUKnS-7B",
    "outputId": "d1a451b9-6a79-410e-d07f-756be8e551c0"
   },
   "outputs": [],
   "source": [
    "# 변환행렬\n",
    "w = np.hstack((eigen_pairs[0][1][:, np.newaxis].real,\n",
    "              eigen_pairs[1][1][:, np.newaxis].real))\n",
    "print('행렬 W:\\n', w)"
   ]
  },
  {
   "cell_type": "code",
   "execution_count": null,
   "metadata": {
    "id": "xNEholkdS-7B",
    "outputId": "69b92ebd-781d-46ca-d49c-92aa1ddb2bfc"
   },
   "outputs": [],
   "source": [
    "X_train_lda = X_train_std.dot(w)\n",
    "colors = ['r', 'b', 'g']\n",
    "markers = ['s', 'x', 'o']\n",
    "\n",
    "for l, c, m in zip(np.unique(y_train), colors, markers):\n",
    "    plt.scatter(X_train_lda[y_train == l, 0],\n",
    "                X_train_lda[y_train == l, 1] * (-1),\n",
    "                c=c, label=l, marker=m)\n",
    "\n",
    "plt.xlabel('LD 1')\n",
    "plt.ylabel('LD 2')\n",
    "plt.legend(loc='lower right')\n",
    "plt.tight_layout()\n",
    "# plt.savefig('images/05_08.png', dpi=300)\n",
    "plt.show()\n"
   ]
  },
  {
   "cell_type": "code",
   "execution_count": null,
   "metadata": {
    "id": "GD4hnUZiS-7B",
    "outputId": "f8a88597-40b2-4ccd-d957-5d5682194f57"
   },
   "outputs": [],
   "source": [
    "#############################\n",
    "# 사이킷런의 LDA\n",
    "#############################\n",
    "from sklearn.discriminant_analysis import LinearDiscriminantAnalysis as LDA\n",
    "\n",
    "lda = LDA(n_components=2)\n",
    "X_train_lda = lda.fit_transform(X_train_std, y_train)\n",
    "\n",
    "from sklearn.linear_model import LogisticRegression\n",
    "\n",
    "lr = LogisticRegression(random_state=1)\n",
    "lr = lr.fit(X_train_lda, y_train)\n",
    "\n",
    "plot_decision_regions(X_train_lda, y_train, classifier=lr)\n",
    "plt.xlabel('LD 1')\n",
    "plt.ylabel('LD 2')\n",
    "plt.legend(loc='lower left')\n",
    "plt.tight_layout()\n",
    "# plt.savefig('images/05_09.png', dpi=300)\n",
    "plt.show()\n"
   ]
  },
  {
   "cell_type": "code",
   "execution_count": null,
   "metadata": {
    "id": "X5in0e7ES-7B",
    "outputId": "85c0a9e9-84ed-4e1c-f77f-54eaf183d689"
   },
   "outputs": [],
   "source": [
    "X_test_lda = lda.transform(X_test_std)\n",
    "\n",
    "plot_decision_regions(X_test_lda, y_test, classifier=lr)\n",
    "plt.xlabel('LD 1')\n",
    "plt.ylabel('LD 2')\n",
    "plt.legend(loc='lower left')\n",
    "plt.tight_layout()\n",
    "# plt.savefig('images/05_10.png', dpi=300)\n",
    "plt.show()"
   ]
  },
  {
   "cell_type": "code",
   "execution_count": null,
   "metadata": {
    "id": "pLVQe36uS-7C",
    "outputId": "7655e18c-4741-44a1-df6e-f9f096c76970"
   },
   "outputs": [],
   "source": [
    "####################################\n",
    "# 파이썬으로 커널 PCA 구현\n",
    "####################################\n",
    "\n",
    "from scipy.spatial.distance import pdist, squareform\n",
    "from scipy.linalg import eigh\n",
    "import numpy as np\n",
    "\n",
    "from distutils.version import LooseVersion as Version\n",
    "from scipy import __version__ as scipy_version\n",
    "\n",
    "# scipy 2.0.0에서 삭제될 예정이므로 대신 numpy.exp를 사용합니다.\n",
    "if scipy_version >= Version('1.4.1'):\n",
    "    from numpy import exp\n",
    "else:\n",
    "    from scipy import exp\n",
    "\n",
    "\n",
    "def rbf_kernel_pca(X, gamma, n_components):\n",
    "    \"\"\"\n",
    "    RBF 커널 PCA 구현\n",
    "\n",
    "    매개변수\n",
    "    ------------\n",
    "    X: {넘파이 ndarray}, shape = [n_samples, n_features]\n",
    "\n",
    "    gamma: float\n",
    "      RBF 커널 튜닝 매개변수\n",
    "\n",
    "    n_components: int\n",
    "      반환할 주성분 개수\n",
    "\n",
    "    반환값\n",
    "    ------------\n",
    "     X_pc: {넘파이 ndarray}, shape = [n_samples, k_features]\n",
    "       투영된 데이터셋\n",
    "\n",
    "    \"\"\"\n",
    "    # MxN 차원의 데이터셋에서 샘플 간의 유클리디안 거리의 제곱을 계산합니다.\n",
    "    sq_dists = pdist(X, metric='sqeuclidean')\n",
    "\n",
    "    # 샘플 간의 거리를 정방 대칭 행렬로 변환합니다.\n",
    "    mat_sq_dists = squareform(sq_dists)\n",
    "\n",
    "    # 커널 행렬을 계산합니다.\n",
    "    K = exp(-gamma * mat_sq_dists)\n",
    "\n",
    "    # 커널 행렬을 중앙에 맞춥니다.\n",
    "    N = K.shape[0]\n",
    "    one_n = np.ones((N, N)) / N\n",
    "    K = K - one_n.dot(K) - K.dot(one_n) + one_n.dot(K).dot(one_n)\n",
    "\n",
    "    # 중앙에 맞춰진 커널 행렬의 고윳값과 고유벡터를 구합니다.\n",
    "    # scipy.linalg.eigh 함수는 오름차순으로 반환합니다.\n",
    "    eigvals, eigvecs = eigh(K)\n",
    "    eigvals, eigvecs = eigvals[::-1], eigvecs[:, ::-1]\n",
    "\n",
    "    # 최상위 k 개의 고유벡터를 선택합니다(결과값은 투영된 샘플입니다).\n",
    "    X_pc = np.column_stack([eigvecs[:, i]\n",
    "                            for i in range(n_components)])\n",
    "\n",
    "    return X_pc"
   ]
  },
  {
   "cell_type": "code",
   "execution_count": null,
   "metadata": {
    "id": "x9PKHnRFS-7C",
    "outputId": "25fc9ff6-1c15-4716-c934-3c3a5d40b6ce"
   },
   "outputs": [],
   "source": [
    "# 예제 1: 반달 모양 구분하기\n",
    "import matplotlib.pyplot as plt\n",
    "from sklearn.datasets import make_moons\n",
    "\n",
    "X, y = make_moons(n_samples=100, random_state=123)\n",
    "\n",
    "plt.scatter(X[y == 0, 0], X[y == 0, 1], color='red', marker='^', alpha=0.5)\n",
    "plt.scatter(X[y == 1, 0], X[y == 1, 1], color='blue', marker='o', alpha=0.5)\n",
    "\n",
    "plt.tight_layout()\n",
    "# plt.savefig('images/05_12.png', dpi=300)\n",
    "plt.show()"
   ]
  },
  {
   "cell_type": "code",
   "execution_count": null,
   "metadata": {
    "id": "f7jQKDqbS-7C",
    "outputId": "d310f4b6-0ca9-4ace-adf0-4a170bd14fdd"
   },
   "outputs": [],
   "source": [
    "from sklearn.decomposition import PCA\n",
    "\n",
    "scikit_pca = PCA(n_components=2)\n",
    "X_spca = scikit_pca.fit_transform(X)\n",
    "\n",
    "fig, ax = plt.subplots(nrows=1, ncols=2, figsize=(7, 3))\n",
    "\n",
    "ax[0].scatter(X_spca[y == 0, 0], X_spca[y == 0, 1],\n",
    "              color='red', marker='^', alpha=0.5)\n",
    "ax[0].scatter(X_spca[y == 1, 0], X_spca[y == 1, 1],\n",
    "              color='blue', marker='o', alpha=0.5)\n",
    "\n",
    "ax[1].scatter(X_spca[y == 0, 0], np.zeros((50, 1)) + 0.02,\n",
    "              color='red', marker='^', alpha=0.5)\n",
    "ax[1].scatter(X_spca[y == 1, 0], np.zeros((50, 1)) - 0.02,\n",
    "              color='blue', marker='o', alpha=0.5)\n",
    "\n",
    "ax[0].set_xlabel('PC1')\n",
    "ax[0].set_ylabel('PC2')\n",
    "ax[1].set_ylim([-1, 1])\n",
    "ax[1].set_yticks([])\n",
    "ax[1].set_xlabel('PC1')\n",
    "\n",
    "plt.tight_layout()\n",
    "# plt.savefig('images/05_13.png', dpi=300)\n",
    "plt.show()"
   ]
  },
  {
   "cell_type": "code",
   "execution_count": null,
   "metadata": {
    "id": "Aepl3eebS-7C",
    "outputId": "ef963a70-93d0-4640-d1a1-19a4c6ac4ed5"
   },
   "outputs": [],
   "source": [
    "X_kpca = rbf_kernel_pca(X, gamma=15, n_components=2)\n",
    "\n",
    "fig, ax = plt.subplots(nrows=1, ncols=2, figsize=(7, 3))\n",
    "ax[0].scatter(X_kpca[y==0, 0], X_kpca[y==0, 1],\n",
    "            color='red', marker='^', alpha=0.5)\n",
    "ax[0].scatter(X_kpca[y==1, 0], X_kpca[y==1, 1],\n",
    "            color='blue', marker='o', alpha=0.5)\n",
    "\n",
    "ax[1].scatter(X_kpca[y==0, 0], np.zeros((50, 1))+0.02,\n",
    "            color='red', marker='^', alpha=0.5)\n",
    "ax[1].scatter(X_kpca[y==1, 0], np.zeros((50, 1))-0.02,\n",
    "            color='blue', marker='o', alpha=0.5)\n",
    "\n",
    "ax[0].set_xlabel('PC1')\n",
    "ax[0].set_ylabel('PC2')\n",
    "ax[1].set_ylim([-1, 1])\n",
    "ax[1].set_yticks([])\n",
    "ax[1].set_xlabel('PC1')\n",
    "\n",
    "plt.tight_layout()\n",
    "# plt.savefig('images/05_14.png', dpi=300)\n",
    "plt.show()"
   ]
  },
  {
   "cell_type": "code",
   "execution_count": null,
   "metadata": {
    "id": "-pzxdu2HS-7C",
    "outputId": "edb12141-03e2-4634-9cae-d781431d43b7"
   },
   "outputs": [],
   "source": [
    "# 예제 2: 동심원 분리하기\n",
    "from sklearn.datasets import make_circles\n",
    "\n",
    "X, y = make_circles(n_samples=1000, random_state=123, noise=0.1, factor=0.2)\n",
    "\n",
    "plt.scatter(X[y == 0, 0], X[y == 0, 1], color='red', marker='^', alpha=0.5)\n",
    "plt.scatter(X[y == 1, 0], X[y == 1, 1], color='blue', marker='o', alpha=0.5)\n",
    "\n",
    "plt.tight_layout()\n",
    "# plt.savefig('images/05_15.png', dpi=300)\n",
    "plt.show()"
   ]
  },
  {
   "cell_type": "code",
   "execution_count": null,
   "metadata": {
    "id": "rs0qoS3MS-7C",
    "outputId": "d75dd8ae-d6e1-45ad-860f-d51476bc8728"
   },
   "outputs": [],
   "source": [
    "scikit_pca = PCA(n_components=2)\n",
    "X_spca = scikit_pca.fit_transform(X)\n",
    "\n",
    "fig, ax = plt.subplots(nrows=1, ncols=2, figsize=(7, 3))\n",
    "\n",
    "ax[0].scatter(X_spca[y == 0, 0], X_spca[y == 0, 1],\n",
    "              color='red', marker='^', alpha=0.5)\n",
    "ax[0].scatter(X_spca[y == 1, 0], X_spca[y == 1, 1],\n",
    "              color='blue', marker='o', alpha=0.5)\n",
    "\n",
    "ax[1].scatter(X_spca[y == 0, 0], np.zeros((500, 1)) + 0.02,\n",
    "              color='red', marker='^', alpha=0.5)\n",
    "ax[1].scatter(X_spca[y == 1, 0], np.zeros((500, 1)) - 0.02,\n",
    "              color='blue', marker='o', alpha=0.5)\n",
    "\n",
    "ax[0].set_xlabel('PC1')\n",
    "ax[0].set_ylabel('PC2')\n",
    "ax[1].set_ylim([-1, 1])\n",
    "ax[1].set_yticks([])\n",
    "ax[1].set_xlabel('PC1')\n",
    "\n",
    "plt.tight_layout()\n",
    "# plt.savefig('images/05_16.png', dpi=300)\n",
    "plt.show()"
   ]
  },
  {
   "cell_type": "code",
   "execution_count": null,
   "metadata": {
    "id": "CMM9kJIRS-7C",
    "outputId": "96f701ef-b584-48f8-e050-62895b110eb3"
   },
   "outputs": [],
   "source": [
    "X_kpca = rbf_kernel_pca(X, gamma=15, n_components=2)\n",
    "\n",
    "fig, ax = plt.subplots(nrows=1, ncols=2, figsize=(7, 3))\n",
    "ax[0].scatter(X_kpca[y == 0, 0], X_kpca[y == 0, 1],\n",
    "              color='red', marker='^', alpha=0.5)\n",
    "ax[0].scatter(X_kpca[y == 1, 0], X_kpca[y == 1, 1],\n",
    "              color='blue', marker='o', alpha=0.5)\n",
    "\n",
    "ax[1].scatter(X_kpca[y == 0, 0], np.zeros((500, 1)) + 0.02,\n",
    "              color='red', marker='^', alpha=0.5)\n",
    "ax[1].scatter(X_kpca[y == 1, 0], np.zeros((500, 1)) - 0.02,\n",
    "              color='blue', marker='o', alpha=0.5)\n",
    "\n",
    "ax[0].set_xlabel('PC1')\n",
    "ax[0].set_ylabel('PC2')\n",
    "ax[1].set_ylim([-1, 1])\n",
    "ax[1].set_yticks([])\n",
    "ax[1].set_xlabel('PC1')\n",
    "\n",
    "plt.tight_layout()\n",
    "# plt.savefig('images/05_17.png', dpi=300)\n",
    "plt.show()"
   ]
  },
  {
   "cell_type": "code",
   "execution_count": null,
   "metadata": {
    "id": "A3tI0DGtS-7D"
   },
   "outputs": [],
   "source": [
    "################################\n",
    "# 새로운 데이터 포인트 투영하기\n",
    "# 고윳값 반환 추가\n",
    "################################\n",
    "\n",
    "from scipy.spatial.distance import pdist, squareform\n",
    "from numpy import exp\n",
    "from scipy.linalg import eigh\n",
    "import numpy as np\n",
    "\n",
    "def rbf_kernel_pca(X, gamma, n_components):\n",
    "    \"\"\"\n",
    "    RBF 커널 PCA 구현\n",
    "\n",
    "    매개변수\n",
    "    ------------\n",
    "    X: {넘파이 ndarray}, shape = [n_samples, n_features]\n",
    "\n",
    "    gamma: float\n",
    "      RBF 커널 튜닝 매개변수\n",
    "\n",
    "    n_components: int\n",
    "      반환할 주성분 개수\n",
    "\n",
    "    Returns\n",
    "    ------------\n",
    "     alphas: {넘파이 ndarray}, shape = [n_samples, k_features]\n",
    "       투영된 데이터셋\n",
    "\n",
    "     lambdas: list\n",
    "       고윳값\n",
    "\n",
    "    \"\"\"\n",
    "    # MxN 차원의 데이터셋에서 샘플 간의 유클리디안 거리의 제곱을 계산합니다.\n",
    "    sq_dists = pdist(X, 'sqeuclidean')\n",
    "\n",
    "    # 샘플 간의 거리를 정방 대칭 행렬로 변환합니다.\n",
    "    mat_sq_dists = squareform(sq_dists)\n",
    "\n",
    "    # 커널 행렬을 계산합니다.\n",
    "    K = exp(-gamma * mat_sq_dists)\n",
    "\n",
    "    # 커널 행렬을 중앙에 맞춥니다.\n",
    "    N = K.shape[0]\n",
    "    one_n = np.ones((N, N)) / N\n",
    "    K = K - one_n.dot(K) - K.dot(one_n) + one_n.dot(K).dot(one_n)\n",
    "\n",
    "    # 중앙에 맞춰진 커널 행렬의 고윳값과 고유 벡터를 구합니다.\n",
    "    # scipy.linalg.eigh 함수는 오름차순으로 반환합니다.\n",
    "    eigvals, eigvecs = eigh(K)\n",
    "    eigvals, eigvecs = eigvals[::-1], eigvecs[:, ::-1]\n",
    "\n",
    "    # 최상위 k 개의 고유 벡터를 선택합니다(투영 결과).\n",
    "    alphas = np.column_stack([eigvecs[:, i]\n",
    "                              for i in range(n_components)])\n",
    "\n",
    "    # 고유 벡터에 상응하는 고윳값을 선택합니다.\n",
    "    lambdas = [eigvals[i] for i in range(n_components)]\n",
    "\n",
    "    return alphas, lambdas"
   ]
  },
  {
   "cell_type": "code",
   "execution_count": null,
   "metadata": {
    "id": "tFxmJ7V6S-7D",
    "outputId": "f44ffd08-ae97-4af7-8fca-07d7018249cc"
   },
   "outputs": [],
   "source": [
    "X, y = make_moons(n_samples=100, random_state=123)\n",
    "alphas, lambdas = rbf_kernel_pca(X, gamma=15, n_components=1)\n",
    "\n",
    "# 새로운 데이터셋\n",
    "x_new = X[25]\n",
    "print(\"새로운 데이터\", x_new)\n",
    "x_proj = alphas[25] # 원본 투영\n",
    "print(\"원본 투영\", x_proj)\n",
    "\n",
    "def project_x(x_new, X, gamma, alphas, lambdas):\n",
    "    pair_dist = np.array([np.sum((x_new - row)**2) for row in X])\n",
    "    k = np.exp(-gamma * pair_dist)\n",
    "    return k.dot(alphas / lambdas)\n",
    "\n",
    "# 새로운 데이터포인트를 투영합니다.\n",
    "x_reproj = project_x(x_new, X, gamma=15, alphas=alphas, lambdas=lambdas)\n",
    "print(\"새로운 데이터포인트를 투영\", x_reproj)\n",
    "\n",
    "plt.scatter(alphas[y == 0, 0], np.zeros((50)),\n",
    "            color='red', marker='^', alpha=0.5)\n",
    "plt.scatter(alphas[y == 1, 0], np.zeros((50)),\n",
    "            color='blue', marker='o', alpha=0.5)\n",
    "plt.scatter(x_proj, 0, color='black',\n",
    "            label='Original projection of point X[25]', marker='^', s=100)\n",
    "plt.scatter(x_reproj, 0, color='green',\n",
    "            label='Remapped point X[25]', marker='x', s=500)\n",
    "plt.yticks([], [])\n",
    "plt.legend(scatterpoints=1)\n",
    "\n",
    "plt.tight_layout()\n",
    "# plt.savefig('images/05_18.png', dpi=300)\n",
    "plt.show()"
   ]
  },
  {
   "cell_type": "code",
   "execution_count": null,
   "metadata": {
    "id": "4n-QrmPJS-7G",
    "outputId": "59c34c9a-f14e-4c81-be0e-a351734372f1"
   },
   "outputs": [],
   "source": [
    "#########################################\n",
    "# 사이킷런의 커널 PCA\n",
    "#########################################\n",
    "from sklearn.decomposition import KernelPCA\n",
    "\n",
    "X, y = make_moons(n_samples=100, random_state=123)\n",
    "scikit_kpca = KernelPCA(n_components=2, kernel='rbf', gamma=15)\n",
    "X_skernpca = scikit_kpca.fit_transform(X)\n",
    "\n",
    "plt.scatter(X_skernpca[y == 0, 0], X_skernpca[y == 0, 1],\n",
    "            color='red', marker='^', alpha=0.5)\n",
    "plt.scatter(X_skernpca[y == 1, 0], X_skernpca[y == 1, 1],\n",
    "            color='blue', marker='o', alpha=0.5)\n",
    "\n",
    "plt.xlabel('PC1')\n",
    "plt.ylabel('PC2')\n",
    "plt.tight_layout()\n",
    "# plt.savefig('images/05_19.png', dpi=300)\n",
    "plt.show()"
   ]
  },
  {
   "cell_type": "markdown",
   "metadata": {
    "id": "-6OdbdmdS-7G"
   },
   "source": [
    "\n",
    "$k=XX^T=USV^T(VSU^T)=US^2U^T$ <br>\n",
    "$a=U$<br>\n",
    "$\\lambda = S^2$<br>\n",
    "$X'=US=a\\sqrt{\\lambda}$<br>\n",
    "\n",
    "#새로운 데이터<br>\n",
    "$xV=xVSU^TUS^{-1} =xX^TUS^{-1}=k US^{-1}=kal\\sqrt{\\lambda}$"
   ]
  },
  {
   "cell_type": "code",
   "execution_count": null,
   "metadata": {
    "id": "AUF0P-z8S-7G",
    "outputId": "4f996369-c4ef-41be-8b07-f6e998a7d86e"
   },
   "outputs": [],
   "source": [
    "# 사이킷런의 매니폴드 알고리즘을 반달 모양 데이터셋과 동심원 데이터셋에 적용\n",
    "# 먼저 변환된 2차원 데이터셋을 그래프로 그리기 위한 간단한 함수를 정의\n",
    "def plot_manifold(X, y, savefig_name):\n",
    "\n",
    "    plt.scatter(X[y == 0, 0], X[y == 0, 1],\n",
    "                color='red', marker='^', alpha=0.5)\n",
    "    plt.scatter(X[y == 1, 0], X[y == 1, 1],\n",
    "                color='blue', marker='o', alpha=0.5)\n",
    "\n",
    "    plt.xlabel('PC1')\n",
    "    plt.ylabel('PC2')\n",
    "    plt.tight_layout()\n",
    "    # plt.savefig(savefig_name, dpi=300)\n",
    "    plt.show()\n",
    "\n",
    "\n",
    "#지역 선형 임베딩(Locally Linear Embedding)은 이웃한 샘플 간의 거리를 유지하는 저차원 투영을 찾기\n",
    "#지역 선형 임베딩을 구현한 사이킷런의 LocallyLinearEmbedding 클래스를 앞에서 적재한 반달 모양 데이터셋에 적용\n",
    "from sklearn.manifold import LocallyLinearEmbedding\n",
    "\n",
    "lle = LocallyLinearEmbedding(n_components=2, random_state=1)\n",
    "X_lle = lle.fit_transform(X)\n",
    "\n",
    "plot_manifold(X_lle, y, 'images/05_lle_moon.png')"
   ]
  },
  {
   "cell_type": "code",
   "execution_count": null,
   "metadata": {
    "id": "YwqI-G7mS-7G",
    "outputId": "8a23c332-406f-440c-ca0d-238e1cdff4b0"
   },
   "outputs": [],
   "source": [
    "#t-SNE(t-distributed Stochastic Neighbor Embedding)는\n",
    "#데이터 포인트 간의 유사도를 결합 확률(joint probability)로 변환하고,\n",
    "#저차원과 고차원의 확률 사이에서 쿨백-라이블러(Kullback-Leibler) 발산을 최소화\n",
    "#t-SNE는 특히 고차원 데이터셋을 시각화하는데 뛰어난 성능을 냅니다. 사이킷런에는 TSNE 클래스에 구현\n",
    "from sklearn.manifold import TSNE\n",
    "\n",
    "tsne = TSNE(n_components=2, random_state=1)\n",
    "X_tsne = tsne.fit_transform(X)\n",
    "\n",
    "plot_manifold(X_tsne, y, 'images/05_tsne_moon.png')"
   ]
  },
  {
   "cell_type": "code",
   "execution_count": null,
   "metadata": {
    "id": "YTjKMMNrS-7G",
    "outputId": "91cd4105-8da4-432b-d34f-e429457b3169"
   },
   "outputs": [],
   "source": [
    "#KernelPCA, LocallyLinearEmbedding, TSNE를 동심원 데이터셋에 적용\n",
    "from sklearn.datasets import make_circles\n",
    "\n",
    "X, y = make_circles(n_samples=1000, random_state=123, noise=0.1, factor=0.2)\n",
    "\n",
    "scikit_kpca = KernelPCA(n_components=2, kernel='rbf', gamma=15)\n",
    "X_skernpca = scikit_kpca.fit_transform(X)\n",
    "\n",
    "plot_manifold(X_skernpca, y, 'images/05_kpca_circles.png')"
   ]
  },
  {
   "cell_type": "code",
   "execution_count": null,
   "metadata": {
    "id": "qSDdQOBMS-7H",
    "outputId": "57cb8dcc-eb07-4675-c34a-e0b7fd49d7d7"
   },
   "outputs": [],
   "source": [
    "from sklearn.manifold import LocallyLinearEmbedding\n",
    "\n",
    "lle = LocallyLinearEmbedding(n_components=2, random_state=1)\n",
    "X_lle = lle.fit_transform(X)\n",
    "\n",
    "plot_manifold(X_lle, y, 'images/05_lle_circles.png')"
   ]
  },
  {
   "cell_type": "code",
   "execution_count": null,
   "metadata": {
    "id": "ETYkBvZHS-7H",
    "outputId": "768bd922-4fb8-4296-c0d4-c4cae2dfaf6a"
   },
   "outputs": [],
   "source": [
    "from sklearn.manifold import TSNE\n",
    "\n",
    "tsne = TSNE(n_components=2, random_state=1)\n",
    "X_tsne = tsne.fit_transform(X)\n",
    "\n",
    "plot_manifold(X_tsne, y, 'images/05_tsne_circles.png')"
   ]
  },
  {
   "cell_type": "code",
   "execution_count": null,
   "metadata": {
    "id": "ZuiZOVXmS-7H"
   },
   "outputs": [],
   "source": []
  },
  {
   "cell_type": "code",
   "execution_count": null,
   "metadata": {
    "id": "Sz1NX43US-7H"
   },
   "outputs": [],
   "source": []
  },
  {
   "cell_type": "code",
   "execution_count": null,
   "metadata": {
    "id": "Jr6AaEypS-7H"
   },
   "outputs": [],
   "source": []
  },
  {
   "cell_type": "code",
   "execution_count": null,
   "metadata": {
    "id": "yqfd3XPtS-7H",
    "outputId": "834b8bee-75fa-48df-b042-a13db2f111b0"
   },
   "outputs": [],
   "source": [
    "#붓꽃 데이터로 PCA 변환을 위한 데이터 로딩 및 시각화\n",
    "from sklearn.datasets import load_iris\n",
    "import pandas as pd\n",
    "import matplotlib.pyplot as plt\n",
    "%matplotlib inline\n",
    "\n",
    "# 사이킷런 내장 데이터 셋 API 호출\n",
    "iris = load_iris()\n",
    "\n",
    "# 넘파이 데이터 셋을 Pandas DataFrame으로 변환\n",
    "columns = ['sepal_length','sepal_width','petal_length','petal_width']\n",
    "irisDF = pd.DataFrame(iris.data , columns=columns)\n",
    "irisDF['target']=iris.target\n",
    "irisDF.head(3)"
   ]
  },
  {
   "cell_type": "code",
   "execution_count": null,
   "metadata": {
    "id": "sj71pGlKS-7H",
    "outputId": "4fea4198-a41f-4bdf-e0be-81f33ed838b9"
   },
   "outputs": [],
   "source": [
    "#setosa는 세모, versicolor는 네모, virginica는 동그라미로 표현\n",
    "markers=['^', 's', 'o']\n",
    "\n",
    "#setosa의 target 값은 0, versicolor는 1, virginica는 2. 각 target 별로 다른 shape으로 scatter plot\n",
    "for i, marker in enumerate(markers):\n",
    "    x_axis_data = irisDF[irisDF['target']==i]['sepal_length']\n",
    "    y_axis_data = irisDF[irisDF['target']==i]['sepal_width']\n",
    "    plt.scatter(x_axis_data, y_axis_data, marker=marker,label=iris.target_names[i])\n",
    "\n",
    "plt.legend()\n",
    "plt.xlabel('sepal length')\n",
    "plt.ylabel('sepal width')\n",
    "plt.show()"
   ]
  },
  {
   "cell_type": "code",
   "execution_count": null,
   "metadata": {
    "id": "w-N3fXU1S-7H"
   },
   "outputs": [],
   "source": [
    "#평균이 0, 분산이 1인 정규 분포로 원본 데이터를 변환\n",
    "from sklearn.preprocessing import StandardScaler\n",
    "\n",
    "# Target 값을 제외한 모든 속성 값을 StandardScaler를 이용하여 표준 정규 분포를 가지는 값들로 변환\n",
    "iris_scaled = StandardScaler().fit_transform(irisDF.iloc[:, :-1])"
   ]
  },
  {
   "cell_type": "code",
   "execution_count": null,
   "metadata": {
    "id": "klff7mXSS-7H",
    "outputId": "a60186a1-65a4-42c8-ac08-cacb66196f59"
   },
   "outputs": [],
   "source": [
    "irisDF.shape\n"
   ]
  },
  {
   "cell_type": "code",
   "execution_count": null,
   "metadata": {
    "id": "P_dQhX5tS-7I",
    "outputId": "72c92640-17fe-4c2b-ada7-a7895a70c00f"
   },
   "outputs": [],
   "source": [
    "iris_scaled.shape"
   ]
  },
  {
   "cell_type": "code",
   "execution_count": null,
   "metadata": {
    "id": "u6WO2WqbS-7I",
    "outputId": "8d081da2-1e5f-459f-ced9-7a0b40175444"
   },
   "outputs": [],
   "source": [
    "#PCA 변환 수행\n",
    "from sklearn.decomposition import PCA\n",
    "\n",
    "pca = PCA(n_components=2)\n",
    "\n",
    "#fit( )과 transform( ) 을 호출하여 PCA 변환 데이터 반환\n",
    "pca.fit(iris_scaled)\n",
    "iris_pca = pca.transform(iris_scaled)\n",
    "print(iris_pca.shape)"
   ]
  },
  {
   "cell_type": "code",
   "execution_count": null,
   "metadata": {
    "id": "zXz110sMS-7I",
    "outputId": "8ff8f2a6-13a3-4c7e-80c8-2094a5c14aa1"
   },
   "outputs": [],
   "source": [
    "# PCA 환된 데이터의 컬럼명을 각각 pca_component_1, pca_component_2로 명명\n",
    "pca_columns=['pca_component_1','pca_component_2']\n",
    "irisDF_pca = pd.DataFrame(iris_pca, columns=pca_columns)\n",
    "irisDF_pca['target']=iris.target\n",
    "irisDF_pca.head(3)"
   ]
  },
  {
   "cell_type": "code",
   "execution_count": null,
   "metadata": {
    "id": "ifOKurU1S-7I",
    "outputId": "72b02e51-66b6-4e5f-91aa-4fc7c73c6023"
   },
   "outputs": [],
   "source": [
    "#PCA로 차원 축소된 피처들로 데이터 산포도 시각화\n",
    "#setosa를 세모, versicolor를 네모, virginica를 동그라미로 표시\n",
    "markers=['^', 's', 'o']\n",
    "\n",
    "#pca_component_1 을 x축, pc_component_2를 y축으로 scatter plot 수행.\n",
    "for i, marker in enumerate(markers):\n",
    "    x_axis_data = irisDF_pca[irisDF_pca['target']==i]['pca_component_1']\n",
    "    y_axis_data = irisDF_pca[irisDF_pca['target']==i]['pca_component_2']\n",
    "    plt.scatter(x_axis_data, y_axis_data, marker=marker,label=iris.target_names[i])\n",
    "\n",
    "plt.legend()\n",
    "plt.xlabel('pca_component_1')\n",
    "plt.ylabel('pca_component_2')\n",
    "plt.show()"
   ]
  },
  {
   "cell_type": "code",
   "execution_count": null,
   "metadata": {
    "id": "A_eySYu8S-7I",
    "outputId": "53f15131-c4a9-40ff-c192-3bb701d4e7d1"
   },
   "outputs": [],
   "source": [
    "#각 PCA Component별 변동성 비율\n",
    "print(pca.explained_variance_ratio_)"
   ]
  },
  {
   "cell_type": "code",
   "execution_count": null,
   "metadata": {
    "id": "lk3aG8ONS-7I",
    "outputId": "84cb43b5-08b9-4bd2-9ba3-d7b11986aa3c"
   },
   "outputs": [],
   "source": [
    "#원본 데이터와 PCA 변환된 데이터 기반에서 예측 성능 비교\n",
    "from sklearn.ensemble import RandomForestClassifier\n",
    "from sklearn.model_selection import cross_val_score\n",
    "import numpy as np\n",
    "\n",
    "rcf = RandomForestClassifier(random_state=156)\n",
    "scores = cross_val_score(rcf, iris.data, iris.target,scoring='accuracy',cv=3)\n",
    "print('원본 데이터 교차 검증 개별 정확도:',scores)\n",
    "print('원본 데이터 평균 정확도:', np.mean(scores))"
   ]
  },
  {
   "cell_type": "code",
   "execution_count": null,
   "metadata": {
    "id": "u2pW9ZSHS-7I",
    "outputId": "1fdbee31-1bac-4df9-c94b-3626fb2dc42d"
   },
   "outputs": [],
   "source": [
    "pca_X = irisDF_pca[['pca_component_1', 'pca_component_2']]\n",
    "scores_pca = cross_val_score(rcf, pca_X, iris.target, scoring='accuracy', cv=3 )\n",
    "print('PCA 변환 데이터 교차 검증 개별 정확도:',scores_pca)\n",
    "print('PCA 변환 데이터 평균 정확도:', np.mean(scores_pca))"
   ]
  },
  {
   "cell_type": "code",
   "execution_count": null,
   "metadata": {
    "id": "S0q5FaPOS-7J",
    "outputId": "753638a5-7726-4054-c9c9-d93f6bc6a091"
   },
   "outputs": [],
   "source": [
    "######################################\n",
    "# 신용카드 데이터 세트 PCA 변환\n",
    "######################################\n",
    "# 데이터 로드 및 컬럼명 변환\n",
    "# header로 의미없는 첫행 제거, iloc로 기존 id 제거\n",
    "\n",
    "!pip install xlrd\n",
    "import pandas as pd\n",
    "pd.set_option('display.max_columns', 30)\n",
    "\n",
    "df = pd.read_excel('pca_credit_card.xls', header=1, sheet_name='Data').iloc[:,1:]\n",
    "print(df.shape)\n",
    "df.head(3)\n"
   ]
  },
  {
   "cell_type": "code",
   "execution_count": null,
   "metadata": {
    "id": "GkDKMEVaS-7J"
   },
   "outputs": [],
   "source": [
    "# 컴럼명 변경\n",
    "df.rename(columns={'PAY_0':'PAY_1','default payment next month':'default'}, inplace=True)\n",
    "y_target = df['default']\n",
    "X_features = df.drop('default', axis=1)"
   ]
  },
  {
   "cell_type": "code",
   "execution_count": null,
   "metadata": {
    "id": "PLJHCoX-S-7J",
    "outputId": "f2ad4fd5-6679-4679-da49-f33ce8c125e8"
   },
   "outputs": [],
   "source": [
    "X_features.info()"
   ]
  },
  {
   "cell_type": "code",
   "execution_count": null,
   "metadata": {
    "id": "L5WHTt8LS-7J",
    "outputId": "13b681c5-25f7-40e7-f78f-46a180ac0669"
   },
   "outputs": [],
   "source": [
    "X_features.corr()"
   ]
  },
  {
   "cell_type": "code",
   "execution_count": null,
   "metadata": {
    "id": "XudysH6rS-7J",
    "outputId": "9883c9a6-306b-4ac4-8154-31dda3de82cf"
   },
   "outputs": [],
   "source": [
    "# 피처간 상관도 시각화\n",
    "import seaborn as sns\n",
    "import matplotlib.pyplot as plt\n",
    "%matplotlib inline\n",
    "\n",
    "corr = X_features.corr()\n",
    "plt.figure(figsize=(14,14))\n",
    "\n",
    "sns.heatmap(corr, annot=True, fmt='.1g')\n",
    "plt.show()"
   ]
  },
  {
   "cell_type": "code",
   "execution_count": null,
   "metadata": {
    "id": "wqWd5mkVS-7J",
    "outputId": "0879524f-8f04-466a-f8d5-8c1757a57d04"
   },
   "outputs": [],
   "source": [
    "from sklearn.decomposition import PCA\n",
    "from sklearn.preprocessing import StandardScaler\n",
    "\n",
    "#BILL_AMT1 ~ BILL_AMT6까지 6개의 속성명 생성\n",
    "cols_bill = ['BILL_AMT'+str(i) for i in range(1, 7)]\n",
    "print('대상 속성명:', cols_bill)\n",
    "\n",
    "# 2개의 PCA 속성을 가진 PCA 객체 생성하고, explained_variance_ratio_ 계산을 위해 fit( ) 호출\n",
    "scaler = StandardScaler()\n",
    "df_cols_scaled = scaler.fit_transform(X_features[cols_bill])\n",
    "\n",
    "pca = PCA(n_components=2)\n",
    "pca.fit(df_cols_scaled)\n",
    "print('PCA Component별 변동성:', pca.explained_variance_ratio_)"
   ]
  },
  {
   "cell_type": "code",
   "execution_count": null,
   "metadata": {
    "id": "EQp-aGLXS-7J",
    "outputId": "5fe3f443-95bf-4128-c0cb-299d7bb1096e"
   },
   "outputs": [],
   "source": [
    "# 시간이 오래 소요됨\n",
    "import numpy as np\n",
    "from sklearn.ensemble import RandomForestClassifier\n",
    "from sklearn.model_selection import cross_val_score\n",
    "\n",
    "rcf = RandomForestClassifier(n_estimators=300, random_state=156)\n",
    "scores = cross_val_score(rcf, X_features, y_target, scoring='accuracy', cv=3 )\n",
    "\n",
    "print('CV=3 인 경우의 개별 Fold세트별 정확도:',scores)\n",
    "print('평균 정확도:{0:.4f}'.format(np.mean(scores)))"
   ]
  },
  {
   "cell_type": "code",
   "execution_count": null,
   "metadata": {
    "id": "zX73DrLES-7J",
    "outputId": "4a09440e-8bf1-4f5c-8c42-c2a6b5779687"
   },
   "outputs": [],
   "source": [
    "from sklearn.decomposition import PCA\n",
    "from sklearn.preprocessing import StandardScaler\n",
    "\n",
    "# 원본 데이터셋에 먼저 StandardScaler적용\n",
    "scaler = StandardScaler()\n",
    "df_scaled = scaler.fit_transform(X_features)\n",
    "\n",
    "# 6개의 Component를 가진 PCA 변환을 수행하고 cross_val_score( )로 분류 예측 수행.\n",
    "pca = PCA(n_components=6)\n",
    "df_pca = pca.fit_transform(df_scaled)\n",
    "scores_pca = cross_val_score(rcf, df_pca, y_target, scoring='accuracy', cv=3)\n",
    "\n",
    "print('CV=3 인 경우의 PCA 변환된 개별 Fold세트별 정확도:',scores_pca)\n",
    "print('PCA 변환 데이터 셋 평균 정확도:{0:.4f}'.format(np.mean(scores_pca)))"
   ]
  },
  {
   "cell_type": "code",
   "execution_count": null,
   "metadata": {
    "id": "WnzqHaVbS-7J"
   },
   "outputs": [],
   "source": [
    "###############################\n",
    "# 붓꽃 데이터 셋에 LDA 적용하기\n",
    "###############################\n",
    "# LDA는 비지도학습이 아님\n",
    "from sklearn.discriminant_analysis import LinearDiscriminantAnalysis\n",
    "from sklearn.preprocessing import StandardScaler\n",
    "from sklearn.datasets import load_iris\n",
    "\n",
    "iris = load_iris()\n",
    "iris_scaled = StandardScaler().fit_transform(iris.data)\n"
   ]
  },
  {
   "cell_type": "code",
   "execution_count": null,
   "metadata": {
    "id": "LHeZp13CS-7K",
    "outputId": "7127d95b-bfab-49cc-ad08-f3e145885c87"
   },
   "outputs": [],
   "source": [
    "lda = LinearDiscriminantAnalysis(n_components=2)\n",
    "# fit()호출 시 target값 입력  # LDA는 비지도학습이 아님\n",
    "lda.fit(iris_scaled, iris.target)\n",
    "iris_lda = lda.transform(iris_scaled)\n",
    "print(iris_lda.shape)"
   ]
  },
  {
   "cell_type": "code",
   "execution_count": null,
   "metadata": {
    "id": "d4BkmZzaS-7K",
    "outputId": "e5da64cd-d4bf-46a9-bd64-2eb3d12636e8"
   },
   "outputs": [],
   "source": [
    "import pandas as pd\n",
    "import matplotlib.pyplot as plt\n",
    "%matplotlib inline\n",
    "\n",
    "lda_columns=['lda_component_1','lda_component_2']\n",
    "irisDF_lda = pd.DataFrame(iris_lda,columns=lda_columns)\n",
    "irisDF_lda['target']=iris.target\n",
    "\n",
    "#setosa는 세모, versicolor는 네모, virginica는 동그라미로 표현\n",
    "markers=['^', 's', 'o']\n",
    "\n",
    "#setosa의 target 값은 0, versicolor는 1, virginica는 2. 각 target 별로 다른 shape으로 scatter plot\n",
    "for i, marker in enumerate(markers):\n",
    "    x_axis_data = irisDF_lda[irisDF_lda['target']==i]['lda_component_1']\n",
    "    y_axis_data = irisDF_lda[irisDF_lda['target']==i]['lda_component_2']\n",
    "\n",
    "    plt.scatter(x_axis_data, y_axis_data, marker=marker,label=iris.target_names[i])\n",
    "\n",
    "plt.legend(loc='upper right')\n",
    "plt.xlabel('lda_component_1')\n",
    "plt.ylabel('lda_component_2')\n",
    "plt.show()"
   ]
  },
  {
   "cell_type": "code",
   "execution_count": null,
   "metadata": {
    "id": "mTNxrKhJS-7K",
    "outputId": "fcad47d4-15dc-442d-be9d-670a1beaaf0a"
   },
   "outputs": [],
   "source": [
    "from sklearn.datasets import load_iris\n",
    "import pandas as pd\n",
    "import matplotlib.pyplot as plt\n",
    "%matplotlib inline\n",
    "\n",
    "# 사이킷런 내장 데이터 셋 API 호출\n",
    "iris = load_iris()\n",
    "\n",
    "# 넘파이 데이터 셋을 Pandas DataFrame으로 변환\n",
    "columns = ['sepal_length','sepal_width','petal_length','petal_width']\n",
    "irisDF = pd.DataFrame(iris.data , columns=columns)\n",
    "irisDF['target']=iris.target\n",
    "irisDF.head(3)\n",
    "from sklearn.preprocessing import StandardScaler\n",
    "\n",
    "iris_scaled = StandardScaler().fit_transform(irisDF.iloc[:, :-1])\n",
    "from sklearn.decomposition import PCA\n",
    "\n",
    "pca = PCA(n_components=2)\n",
    "\n",
    "#fit( )과 transform( ) 을 호출하여 PCA 변환 데이터 반환\n",
    "pca.fit(iris_scaled)\n",
    "iris_pca = pca.transform(iris_scaled)\n",
    "print(iris_pca.shape)\n",
    "pca_columns=['pca_component_1','pca_component_2']\n",
    "irisDF_pca = pd.DataFrame(iris_pca,columns=pca_columns)\n",
    "irisDF_pca['target']=iris.target\n",
    "#setosa를 세모, versicolor를 네모, virginica를 동그라미로 표시\n",
    "markers=['^', 's', 'o']\n",
    "\n",
    "#pca_component_1 을 x축, pc_component_2를 y축으로 scatter plot 수행.\n",
    "for i, marker in enumerate(markers):\n",
    "    x_axis_data = irisDF_pca[irisDF_pca['target']==i]['pca_component_1']\n",
    "    y_axis_data = irisDF_pca[irisDF_pca['target']==i]['pca_component_2']\n",
    "    plt.scatter(x_axis_data, y_axis_data, marker=marker,label=iris.target_names[i])\n",
    "\n",
    "plt.legend()\n",
    "plt.xlabel('pca_component_1')\n",
    "plt.ylabel('pca_component_2')\n",
    "plt.show()"
   ]
  },
  {
   "cell_type": "code",
   "execution_count": null,
   "metadata": {
    "id": "f28HMfc4S-7K",
    "outputId": "3931e7e1-428d-4f86-d266-d1c3960b1133"
   },
   "outputs": [],
   "source": [
    "#####################\n",
    "# SVD\n",
    "\n",
    "# numpy의 svd 모듈 import\n",
    "import numpy as np\n",
    "from numpy.linalg import svd\n",
    "\n",
    "# 4X4 Random 행렬 a 생성\n",
    "np.random.seed(121)\n",
    "a = np.random.randn(4,4)\n",
    "print(np.round(a, 3))"
   ]
  },
  {
   "cell_type": "code",
   "execution_count": null,
   "metadata": {
    "id": "xauvM1nKS-7K",
    "outputId": "86cfe867-e2b2-4c29-9220-a00299b88590"
   },
   "outputs": [],
   "source": [
    "# SVD 행렬 분해\n",
    "U, Sigma, Vt = svd(a)\n",
    "print(U.shape, Sigma.shape, Vt.shape)\n",
    "print('U matrix:\\n',np.round(U, 3))\n",
    "print('Sigma Value:\\n',np.round(Sigma, 3))\n",
    "print('V transpose matrix:\\n',np.round(Vt, 3))"
   ]
  },
  {
   "cell_type": "code",
   "execution_count": null,
   "metadata": {
    "id": "HNMvttmqS-7K",
    "outputId": "c214a530-529b-4ca1-ded3-d13de6c9384c"
   },
   "outputs": [],
   "source": [
    "#분해된 행렬들을 이용하여 다시 원행렬로 원복\n",
    "# Sima를 다시 0 을 포함한 대칭행렬로 변환\n",
    "Sigma_mat = np.diag(Sigma)\n",
    "a_ = np.dot(np.dot(U, Sigma_mat), Vt)\n",
    "print(np.round(a_, 3))"
   ]
  },
  {
   "cell_type": "code",
   "execution_count": null,
   "metadata": {
    "id": "RZ9uHBQWS-7K",
    "outputId": "fe0a252a-a0fb-4884-a801-3bad7e6952af"
   },
   "outputs": [],
   "source": [
    "##########################################\n",
    "# compact SVD\n",
    "##########################################\n",
    "#데이터 의존도가 높은 원본 데이터 행렬 생성\n",
    "a[2] = a[0] + a[1]\n",
    "a[3] = a[0]\n",
    "print(np.round(a,3))"
   ]
  },
  {
   "cell_type": "code",
   "execution_count": null,
   "metadata": {
    "id": "0SsYgJYoS-7K",
    "outputId": "62bf86b0-a36b-410c-9597-36784445b2b5"
   },
   "outputs": [],
   "source": [
    "# 다시 SVD를 수행하여 Sigma 값 확인\n",
    "U, Sigma, Vt = svd(a)\n",
    "print(U.shape, Sigma.shape, Vt.shape)\n",
    "print('Sigma Value:\\n',np.round(Sigma,3))"
   ]
  },
  {
   "cell_type": "code",
   "execution_count": null,
   "metadata": {
    "id": "dcyM2ulMS-7L",
    "outputId": "34cf8907-14a7-43e4-87a6-e30c20f4af41"
   },
   "outputs": [],
   "source": [
    "# U 행렬의 경우는 Sigma와 내적을 수행하므로 Sigma의 앞 2행에 대응되는 앞 2열만 추출\n",
    "U_ = U[:, :2]\n",
    "Sigma_ = np.diag(Sigma[:2])\n",
    "# V 전치 행렬의 경우는 앞 2행만 추출\n",
    "Vt_ = Vt[:2]\n",
    "print(U_.shape, Sigma_.shape, Vt_.shape)\n",
    "# U, Sigma, Vt의 내적을 수행하며, 다시 원본 행렬 복원\n",
    "a_ = np.dot(np.dot(U_,Sigma_), Vt_)\n",
    "print(np.round(a_, 3))"
   ]
  },
  {
   "cell_type": "code",
   "execution_count": null,
   "metadata": {
    "id": "o7axoOwfS-7L",
    "outputId": "c2476608-3d60-41c8-d3db-d495f7d83f3e"
   },
   "outputs": [],
   "source": [
    "###################################\n",
    "# Truncated SVD 를 이용한 행렬 분해\n",
    "###################################\n",
    "import numpy as np\n",
    "from scipy.sparse.linalg import svds\n",
    "from scipy.linalg import svd\n",
    "\n",
    "# 원본 행렬을 출력하고, SVD를 적용할 경우 U, Sigma, Vt 의 차원 확인\n",
    "np.random.seed(121)\n",
    "matrix = np.random.random((6, 6))\n",
    "print('원본 행렬:\\n',matrix)\n",
    "U, Sigma, Vt = svd(matrix, full_matrices=False)\n",
    "print('\\n분해 행렬 차원:',U.shape, Sigma.shape, Vt.shape)\n",
    "print('\\nSigma값 행렬:', Sigma)\n",
    "\n",
    "# Truncated SVD로 Sigma 행렬의 특이값을 4개로 하여 Truncated SVD 수행.\n",
    "num_components = 5\n",
    "U_tr, Sigma_tr, Vt_tr = svds(matrix, k=num_components)\n",
    "print('\\nTruncated SVD 분해 행렬 차원:',U_tr.shape, Sigma_tr.shape, Vt_tr.shape)\n",
    "print('\\nTruncated SVD Sigma값 행렬:', Sigma_tr)\n",
    "matrix_tr = np.dot(np.dot(U_tr,np.diag(Sigma_tr)), Vt_tr)  # output of TruncatedSVD\n",
    "\n",
    "print('\\nTruncated SVD로 분해 후 복원 행렬:\\n', matrix_tr)"
   ]
  },
  {
   "cell_type": "code",
   "execution_count": null,
   "metadata": {
    "id": "7a0LKytYS-7L",
    "outputId": "4c723b83-bce9-4e2d-cb02-705401d7c20e"
   },
   "outputs": [],
   "source": [
    "# 사이킷런 TruncatedSVD 클래스를 이용한 변환\n",
    "from sklearn.decomposition import TruncatedSVD, PCA\n",
    "from sklearn.datasets import load_iris\n",
    "import matplotlib.pyplot as plt\n",
    "%matplotlib inline\n",
    "\n",
    "iris = load_iris()\n",
    "iris_ftrs = iris.data\n",
    "# 2개의 주요 component로 TruncatedSVD 변환\n",
    "tsvd = TruncatedSVD(n_components=2)\n",
    "tsvd.fit(iris_ftrs)\n",
    "iris_tsvd = tsvd.transform(iris_ftrs)\n",
    "\n",
    "# Scatter plot 2차원으로 TruncatedSVD 변환 된 데이터 표현. 품종은 색깔로 구분\n",
    "plt.scatter(x=iris_tsvd[:,0], y= iris_tsvd[:,1], c= iris.target)\n",
    "plt.xlabel('TruncatedSVD Component 1')\n",
    "plt.ylabel('TruncatedSVD Component 2')"
   ]
  },
  {
   "cell_type": "code",
   "execution_count": null,
   "metadata": {
    "id": "HN71KyQ-S-7L",
    "outputId": "85ecffb5-13f8-40b6-f1e9-ebefebaf7cc7"
   },
   "outputs": [],
   "source": [
    "from sklearn.preprocessing import StandardScaler\n",
    "\n",
    "# iris 데이터를 StandardScaler로 변환\n",
    "scaler = StandardScaler()\n",
    "iris_scaled = scaler.fit_transform(iris_ftrs)\n",
    "\n",
    "# 스케일링된 데이터를 기반으로 TruncatedSVD 변환 수행\n",
    "tsvd = TruncatedSVD(n_components=2)\n",
    "tsvd.fit(iris_scaled)\n",
    "iris_tsvd = tsvd.transform(iris_scaled)\n",
    "\n",
    "# 스케일링된 데이터를 기반으로 PCA 변환 수행\n",
    "pca = PCA(n_components=2)\n",
    "pca.fit(iris_scaled)\n",
    "iris_pca = pca.transform(iris_scaled)\n",
    "\n",
    "# TruncatedSVD 변환 데이터를 왼쪽에, PCA변환 데이터를 오른쪽에 표현\n",
    "fig, (ax1, ax2) = plt.subplots(figsize=(9,4), ncols=2)\n",
    "ax1.scatter(x=iris_tsvd[:,0], y= iris_tsvd[:,1], c= iris.target)\n",
    "ax2.scatter(x=iris_pca[:,0], y= iris_pca[:,1], c= iris.target)\n",
    "ax1.set_title('Truncated SVD Transformed')\n",
    "ax2.set_title('PCA Transformed')"
   ]
  },
  {
   "cell_type": "code",
   "execution_count": null,
   "metadata": {
    "id": "nM5Zop2tS-7L",
    "outputId": "01ca9615-758d-407b-e29d-b138b5e9ae7c"
   },
   "outputs": [],
   "source": [
    "##############\n",
    "# NMF\n",
    "##############\n",
    "from sklearn.decomposition import NMF\n",
    "from sklearn.datasets import load_iris\n",
    "import matplotlib.pyplot as plt\n",
    "%matplotlib inline\n",
    "\n",
    "iris = load_iris()\n",
    "iris_ftrs = iris.data\n",
    "nmf = NMF(n_components=2)\n",
    "\n",
    "nmf.fit(iris_ftrs)\n",
    "iris_nmf = nmf.transform(iris_ftrs)\n",
    "\n",
    "plt.scatter(x=iris_nmf[:,0], y= iris_nmf[:,1], c= iris.target)\n",
    "plt.xlabel('NMF Component 1')\n",
    "plt.ylabel('NMF Component 2')"
   ]
  },
  {
   "cell_type": "code",
   "execution_count": null,
   "metadata": {
    "id": "7LGRzLKPS-7L"
   },
   "outputs": [],
   "source": []
  }
 ],
 "metadata": {
  "colab": {
   "provenance": []
  },
  "kernelspec": {
   "display_name": "Python 3 (ipykernel)",
   "language": "python",
   "name": "python3"
  },
  "language_info": {
   "codemirror_mode": {
    "name": "ipython",
    "version": 3
   },
   "file_extension": ".py",
   "mimetype": "text/x-python",
   "name": "python",
   "nbconvert_exporter": "python",
   "pygments_lexer": "ipython3",
   "version": "3.12.4"
  }
 },
 "nbformat": 4,
 "nbformat_minor": 4
}
